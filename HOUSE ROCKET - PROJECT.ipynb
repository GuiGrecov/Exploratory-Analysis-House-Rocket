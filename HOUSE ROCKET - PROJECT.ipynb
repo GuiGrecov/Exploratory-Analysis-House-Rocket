{
 "cells": [
  {
   "cell_type": "markdown",
   "id": "53a3535a",
   "metadata": {},
   "source": [
    "# HOUSE ROCKET - EMPRESA "
   ]
  },
  {
   "cell_type": "markdown",
   "id": "1d86e43a",
   "metadata": {},
   "source": [
    "### Questões de negócio: \n",
    "\n",
    "* Encontrar as melhores oportunidades de compra de imóveis da House Rocket \n",
    "\n",
    "### Qual a problema, a dor, a necessidade do time de negócios? \n",
    "\n",
    "* O time do negócio não consegue tomar boas decisões de compra sem analisar os dados \n",
    "\n",
    "### Quais hipóteses temos que resolver? \n",
    "\n",
    "1. A maioria das casas com 3 quartos são acima da mediana do preço.\n",
    "2. A maioria das casas com 3 quartos e 2 banheiros são acima da mediana do preço.\n",
    "3. Casas com com vista para água são 100% mais caras que a mediana do preço.\n",
    "4. A maioria das casas com porão e 2 andares são mais caras que que a mediana do preço.\n",
    "5. A maioria das casas com datas acima de 1990 que tiveram reformas são mais caras que a mediana.\n",
    "6. A maioria das casas antigas são mais caras que a mediana de mercado \n",
    "7. A maioria das casas novas são mais caros que a mediana de mercado \n",
    "\n",
    "\n",
    "### Quais perguntas do CEO temos que resolver? \n",
    "\n",
    "1. Quais são os imóveis que a House Rocket deveria comprar e por qual preço ?\n",
    "2. A House Rocket deveria fazer uma reforma para aumentar o preço da venda ?\n",
    "3. Qual o incremento no preço dado por cada opção de reforma ?\n",
    "4. Lucro das vendas seguindo a análise ? \n"
   ]
  },
  {
   "cell_type": "markdown",
   "id": "400d5e24",
   "metadata": {},
   "source": [
    "## 0.0 Import "
   ]
  },
  {
   "cell_type": "code",
   "execution_count": 1,
   "id": "5b76ae34",
   "metadata": {},
   "outputs": [],
   "source": [
    "import pandas as pd \n",
    "import numpy as np\n",
    "import plotly.express as px \n",
    "import seaborn as sns\n",
    "import matplotlib.pyplot as plt"
   ]
  },
  {
   "cell_type": "markdown",
   "id": "fd44f3d5",
   "metadata": {},
   "source": [
    "### 0.1 Functions"
   ]
  },
  {
   "cell_type": "code",
   "execution_count": 2,
   "id": "ccf4ce6c",
   "metadata": {},
   "outputs": [],
   "source": [
    "def boxplot1(x1, x2, x3, x4, y, df):\n",
    "    \n",
    "    plt.subplot(2, 2, 1)\n",
    "    sns.boxplot(x=x1, y=y, data=df)\n",
    "    \n",
    "    plt.subplot(2, 2, 2)\n",
    "    sns.boxplot(x=x2, y=y, data=df)\n",
    "\n",
    "    plt.subplot(2, 2, 3)\n",
    "    sns.boxplot(x=x3, y=y, data=df)\n",
    "\n",
    "    plt.subplot(2, 2, 4)\n",
    "    sns.boxplot(x=x4, y=y, data=df);\n",
    "\n",
    "    return None\n",
    "\n",
    "\n",
    "def grafdisplot(dt):\n",
    "    sns.set(rc={'figure.figsize':(20, 10)})\n",
    "    sns.distplot(dt, kde=True);\n",
    "    \n",
    "    return None\n"
   ]
  },
  {
   "cell_type": "markdown",
   "id": "f725d8f7",
   "metadata": {},
   "source": [
    "## 1.0 Loading Dataseet"
   ]
  },
  {
   "cell_type": "code",
   "execution_count": 3,
   "id": "43e047f4",
   "metadata": {},
   "outputs": [],
   "source": [
    "data = pd.read_csv(\"datas\\kc_house_data.csv\")\n"
   ]
  },
  {
   "cell_type": "code",
   "execution_count": 4,
   "id": "b19b82ac",
   "metadata": {},
   "outputs": [
    {
     "data": {
      "text/html": [
       "<div>\n",
       "<style scoped>\n",
       "    .dataframe tbody tr th:only-of-type {\n",
       "        vertical-align: middle;\n",
       "    }\n",
       "\n",
       "    .dataframe tbody tr th {\n",
       "        vertical-align: top;\n",
       "    }\n",
       "\n",
       "    .dataframe thead th {\n",
       "        text-align: right;\n",
       "    }\n",
       "</style>\n",
       "<table border=\"1\" class=\"dataframe\">\n",
       "  <thead>\n",
       "    <tr style=\"text-align: right;\">\n",
       "      <th></th>\n",
       "      <th>id</th>\n",
       "      <th>date</th>\n",
       "      <th>price</th>\n",
       "      <th>bedrooms</th>\n",
       "      <th>bathrooms</th>\n",
       "      <th>sqft_living</th>\n",
       "      <th>sqft_lot</th>\n",
       "      <th>floors</th>\n",
       "      <th>waterfront</th>\n",
       "      <th>view</th>\n",
       "      <th>...</th>\n",
       "      <th>grade</th>\n",
       "      <th>sqft_above</th>\n",
       "      <th>sqft_basement</th>\n",
       "      <th>yr_built</th>\n",
       "      <th>yr_renovated</th>\n",
       "      <th>zipcode</th>\n",
       "      <th>lat</th>\n",
       "      <th>long</th>\n",
       "      <th>sqft_living15</th>\n",
       "      <th>sqft_lot15</th>\n",
       "    </tr>\n",
       "  </thead>\n",
       "  <tbody>\n",
       "    <tr>\n",
       "      <th>0</th>\n",
       "      <td>7129300520</td>\n",
       "      <td>20141013T000000</td>\n",
       "      <td>221900.0</td>\n",
       "      <td>3</td>\n",
       "      <td>1.00</td>\n",
       "      <td>1180</td>\n",
       "      <td>5650</td>\n",
       "      <td>1.0</td>\n",
       "      <td>0</td>\n",
       "      <td>0</td>\n",
       "      <td>...</td>\n",
       "      <td>7</td>\n",
       "      <td>1180.0</td>\n",
       "      <td>0</td>\n",
       "      <td>1955</td>\n",
       "      <td>0</td>\n",
       "      <td>98178</td>\n",
       "      <td>47.5112</td>\n",
       "      <td>-122.257</td>\n",
       "      <td>1340</td>\n",
       "      <td>5650</td>\n",
       "    </tr>\n",
       "    <tr>\n",
       "      <th>1</th>\n",
       "      <td>6414100192</td>\n",
       "      <td>20141209T000000</td>\n",
       "      <td>538000.0</td>\n",
       "      <td>3</td>\n",
       "      <td>2.25</td>\n",
       "      <td>2570</td>\n",
       "      <td>7242</td>\n",
       "      <td>2.0</td>\n",
       "      <td>0</td>\n",
       "      <td>0</td>\n",
       "      <td>...</td>\n",
       "      <td>7</td>\n",
       "      <td>2170.0</td>\n",
       "      <td>400</td>\n",
       "      <td>1951</td>\n",
       "      <td>1991</td>\n",
       "      <td>98125</td>\n",
       "      <td>47.7210</td>\n",
       "      <td>-122.319</td>\n",
       "      <td>1690</td>\n",
       "      <td>7639</td>\n",
       "    </tr>\n",
       "    <tr>\n",
       "      <th>2</th>\n",
       "      <td>5631500400</td>\n",
       "      <td>20150225T000000</td>\n",
       "      <td>180000.0</td>\n",
       "      <td>2</td>\n",
       "      <td>1.00</td>\n",
       "      <td>770</td>\n",
       "      <td>10000</td>\n",
       "      <td>1.0</td>\n",
       "      <td>0</td>\n",
       "      <td>0</td>\n",
       "      <td>...</td>\n",
       "      <td>6</td>\n",
       "      <td>770.0</td>\n",
       "      <td>0</td>\n",
       "      <td>1933</td>\n",
       "      <td>0</td>\n",
       "      <td>98028</td>\n",
       "      <td>47.7379</td>\n",
       "      <td>-122.233</td>\n",
       "      <td>2720</td>\n",
       "      <td>8062</td>\n",
       "    </tr>\n",
       "    <tr>\n",
       "      <th>3</th>\n",
       "      <td>2487200875</td>\n",
       "      <td>20141209T000000</td>\n",
       "      <td>604000.0</td>\n",
       "      <td>4</td>\n",
       "      <td>3.00</td>\n",
       "      <td>1960</td>\n",
       "      <td>5000</td>\n",
       "      <td>1.0</td>\n",
       "      <td>0</td>\n",
       "      <td>0</td>\n",
       "      <td>...</td>\n",
       "      <td>7</td>\n",
       "      <td>1050.0</td>\n",
       "      <td>910</td>\n",
       "      <td>1965</td>\n",
       "      <td>0</td>\n",
       "      <td>98136</td>\n",
       "      <td>47.5208</td>\n",
       "      <td>-122.393</td>\n",
       "      <td>1360</td>\n",
       "      <td>5000</td>\n",
       "    </tr>\n",
       "    <tr>\n",
       "      <th>4</th>\n",
       "      <td>1954400510</td>\n",
       "      <td>20150218T000000</td>\n",
       "      <td>510000.0</td>\n",
       "      <td>3</td>\n",
       "      <td>2.00</td>\n",
       "      <td>1680</td>\n",
       "      <td>8080</td>\n",
       "      <td>1.0</td>\n",
       "      <td>0</td>\n",
       "      <td>0</td>\n",
       "      <td>...</td>\n",
       "      <td>8</td>\n",
       "      <td>1680.0</td>\n",
       "      <td>0</td>\n",
       "      <td>1987</td>\n",
       "      <td>0</td>\n",
       "      <td>98074</td>\n",
       "      <td>47.6168</td>\n",
       "      <td>-122.045</td>\n",
       "      <td>1800</td>\n",
       "      <td>7503</td>\n",
       "    </tr>\n",
       "  </tbody>\n",
       "</table>\n",
       "<p>5 rows × 21 columns</p>\n",
       "</div>"
      ],
      "text/plain": [
       "           id             date     price  bedrooms  bathrooms  sqft_living  \\\n",
       "0  7129300520  20141013T000000  221900.0         3       1.00         1180   \n",
       "1  6414100192  20141209T000000  538000.0         3       2.25         2570   \n",
       "2  5631500400  20150225T000000  180000.0         2       1.00          770   \n",
       "3  2487200875  20141209T000000  604000.0         4       3.00         1960   \n",
       "4  1954400510  20150218T000000  510000.0         3       2.00         1680   \n",
       "\n",
       "   sqft_lot  floors  waterfront  view  ...  grade  sqft_above  sqft_basement  \\\n",
       "0      5650     1.0           0     0  ...      7      1180.0              0   \n",
       "1      7242     2.0           0     0  ...      7      2170.0            400   \n",
       "2     10000     1.0           0     0  ...      6       770.0              0   \n",
       "3      5000     1.0           0     0  ...      7      1050.0            910   \n",
       "4      8080     1.0           0     0  ...      8      1680.0              0   \n",
       "\n",
       "   yr_built  yr_renovated  zipcode      lat     long  sqft_living15  \\\n",
       "0      1955             0    98178  47.5112 -122.257           1340   \n",
       "1      1951          1991    98125  47.7210 -122.319           1690   \n",
       "2      1933             0    98028  47.7379 -122.233           2720   \n",
       "3      1965             0    98136  47.5208 -122.393           1360   \n",
       "4      1987             0    98074  47.6168 -122.045           1800   \n",
       "\n",
       "   sqft_lot15  \n",
       "0        5650  \n",
       "1        7639  \n",
       "2        8062  \n",
       "3        5000  \n",
       "4        7503  \n",
       "\n",
       "[5 rows x 21 columns]"
      ]
     },
     "execution_count": 4,
     "metadata": {},
     "output_type": "execute_result"
    }
   ],
   "source": [
    "data.head(5)"
   ]
  },
  {
   "cell_type": "markdown",
   "id": "d35f3ebb",
   "metadata": {},
   "source": [
    "## 2.0 Data Description"
   ]
  },
  {
   "cell_type": "code",
   "execution_count": 5,
   "id": "84ec4a11",
   "metadata": {},
   "outputs": [
    {
     "name": "stdout",
     "output_type": "stream",
     "text": [
      "Number of rows 21613\n",
      "Number of columns 21\n"
     ]
    }
   ],
   "source": [
    "print(f\"Number of rows {data.shape[0]}\")\n",
    "print(f\"Number of columns {data.shape[1]}\")"
   ]
  },
  {
   "cell_type": "markdown",
   "id": "b2e0fede",
   "metadata": {},
   "source": [
    "### 2.1 Data Types"
   ]
  },
  {
   "cell_type": "code",
   "execution_count": 6,
   "id": "c66ae544",
   "metadata": {
    "scrolled": true
   },
   "outputs": [
    {
     "data": {
      "text/plain": [
       "id                 int64\n",
       "date              object\n",
       "price            float64\n",
       "bedrooms           int64\n",
       "bathrooms        float64\n",
       "sqft_living        int64\n",
       "sqft_lot           int64\n",
       "floors           float64\n",
       "waterfront         int64\n",
       "view               int64\n",
       "condition          int64\n",
       "grade              int64\n",
       "sqft_above       float64\n",
       "sqft_basement      int64\n",
       "yr_built           int64\n",
       "yr_renovated       int64\n",
       "zipcode            int64\n",
       "lat              float64\n",
       "long             float64\n",
       "sqft_living15      int64\n",
       "sqft_lot15         int64\n",
       "dtype: object"
      ]
     },
     "execution_count": 6,
     "metadata": {},
     "output_type": "execute_result"
    }
   ],
   "source": [
    "data.dtypes"
   ]
  },
  {
   "cell_type": "markdown",
   "id": "2dc8ba06",
   "metadata": {},
   "source": [
    "### 2.2 Check NA"
   ]
  },
  {
   "cell_type": "code",
   "execution_count": 7,
   "id": "b6adf68f",
   "metadata": {},
   "outputs": [
    {
     "data": {
      "text/plain": [
       "id               0\n",
       "date             0\n",
       "price            0\n",
       "bedrooms         0\n",
       "bathrooms        0\n",
       "sqft_living      0\n",
       "sqft_lot         0\n",
       "floors           0\n",
       "waterfront       0\n",
       "view             0\n",
       "condition        0\n",
       "grade            0\n",
       "sqft_above       2\n",
       "sqft_basement    0\n",
       "yr_built         0\n",
       "yr_renovated     0\n",
       "zipcode          0\n",
       "lat              0\n",
       "long             0\n",
       "sqft_living15    0\n",
       "sqft_lot15       0\n",
       "dtype: int64"
      ]
     },
     "execution_count": 7,
     "metadata": {},
     "output_type": "execute_result"
    }
   ],
   "source": [
    "data.isna().sum()"
   ]
  },
  {
   "cell_type": "markdown",
   "id": "70075d44",
   "metadata": {},
   "source": [
    "### 2.3 Data Trasformer \n",
    "\n",
    "There was an error on data. Before of the transformer it was the object. Afeter the transformer is date "
   ]
  },
  {
   "cell_type": "code",
   "execution_count": 8,
   "id": "60f0c746",
   "metadata": {},
   "outputs": [],
   "source": [
    "data[\"date\"] = pd.to_datetime( data[\"date\"])"
   ]
  },
  {
   "cell_type": "markdown",
   "id": "6917b326",
   "metadata": {},
   "source": [
    "### 2.4 Data Descriptive"
   ]
  },
  {
   "cell_type": "code",
   "execution_count": 9,
   "id": "584ca9e5",
   "metadata": {},
   "outputs": [
    {
     "data": {
      "text/html": [
       "<div>\n",
       "<style scoped>\n",
       "    .dataframe tbody tr th:only-of-type {\n",
       "        vertical-align: middle;\n",
       "    }\n",
       "\n",
       "    .dataframe tbody tr th {\n",
       "        vertical-align: top;\n",
       "    }\n",
       "\n",
       "    .dataframe thead th {\n",
       "        text-align: right;\n",
       "    }\n",
       "</style>\n",
       "<table border=\"1\" class=\"dataframe\">\n",
       "  <thead>\n",
       "    <tr style=\"text-align: right;\">\n",
       "      <th></th>\n",
       "      <th>Média</th>\n",
       "      <th>Mediana</th>\n",
       "      <th>Desvio Padrão</th>\n",
       "      <th>Mínimo</th>\n",
       "      <th>Máximo</th>\n",
       "    </tr>\n",
       "  </thead>\n",
       "  <tbody>\n",
       "    <tr>\n",
       "      <th>id</th>\n",
       "      <td>4580301520.865</td>\n",
       "      <td>3904930410.000</td>\n",
       "      <td>2876499023.428</td>\n",
       "      <td>1000102.000</td>\n",
       "      <td>9900000190.000</td>\n",
       "    </tr>\n",
       "    <tr>\n",
       "      <th>price</th>\n",
       "      <td>540088.142</td>\n",
       "      <td>450000.000</td>\n",
       "      <td>367118.703</td>\n",
       "      <td>75000.000</td>\n",
       "      <td>7700000.000</td>\n",
       "    </tr>\n",
       "    <tr>\n",
       "      <th>bedrooms</th>\n",
       "      <td>3.371</td>\n",
       "      <td>3.000</td>\n",
       "      <td>0.930</td>\n",
       "      <td>0.000</td>\n",
       "      <td>33.000</td>\n",
       "    </tr>\n",
       "    <tr>\n",
       "      <th>bathrooms</th>\n",
       "      <td>2.115</td>\n",
       "      <td>2.250</td>\n",
       "      <td>0.770</td>\n",
       "      <td>0.000</td>\n",
       "      <td>8.000</td>\n",
       "    </tr>\n",
       "    <tr>\n",
       "      <th>sqft_living</th>\n",
       "      <td>2079.900</td>\n",
       "      <td>1910.000</td>\n",
       "      <td>918.420</td>\n",
       "      <td>290.000</td>\n",
       "      <td>13540.000</td>\n",
       "    </tr>\n",
       "    <tr>\n",
       "      <th>sqft_lot</th>\n",
       "      <td>15106.968</td>\n",
       "      <td>7618.000</td>\n",
       "      <td>41419.553</td>\n",
       "      <td>520.000</td>\n",
       "      <td>1651359.000</td>\n",
       "    </tr>\n",
       "    <tr>\n",
       "      <th>floors</th>\n",
       "      <td>1.494</td>\n",
       "      <td>1.500</td>\n",
       "      <td>0.540</td>\n",
       "      <td>1.000</td>\n",
       "      <td>3.500</td>\n",
       "    </tr>\n",
       "    <tr>\n",
       "      <th>waterfront</th>\n",
       "      <td>0.008</td>\n",
       "      <td>0.000</td>\n",
       "      <td>0.087</td>\n",
       "      <td>0.000</td>\n",
       "      <td>1.000</td>\n",
       "    </tr>\n",
       "    <tr>\n",
       "      <th>view</th>\n",
       "      <td>0.234</td>\n",
       "      <td>0.000</td>\n",
       "      <td>0.766</td>\n",
       "      <td>0.000</td>\n",
       "      <td>4.000</td>\n",
       "    </tr>\n",
       "    <tr>\n",
       "      <th>condition</th>\n",
       "      <td>3.409</td>\n",
       "      <td>3.000</td>\n",
       "      <td>0.651</td>\n",
       "      <td>1.000</td>\n",
       "      <td>5.000</td>\n",
       "    </tr>\n",
       "    <tr>\n",
       "      <th>grade</th>\n",
       "      <td>7.657</td>\n",
       "      <td>7.000</td>\n",
       "      <td>1.175</td>\n",
       "      <td>1.000</td>\n",
       "      <td>13.000</td>\n",
       "    </tr>\n",
       "    <tr>\n",
       "      <th>sqft_above</th>\n",
       "      <td>1788.396</td>\n",
       "      <td>NaN</td>\n",
       "      <td>828.109</td>\n",
       "      <td>290.000</td>\n",
       "      <td>9410.000</td>\n",
       "    </tr>\n",
       "    <tr>\n",
       "      <th>sqft_basement</th>\n",
       "      <td>291.509</td>\n",
       "      <td>0.000</td>\n",
       "      <td>442.565</td>\n",
       "      <td>0.000</td>\n",
       "      <td>4820.000</td>\n",
       "    </tr>\n",
       "    <tr>\n",
       "      <th>yr_built</th>\n",
       "      <td>1971.005</td>\n",
       "      <td>1975.000</td>\n",
       "      <td>29.373</td>\n",
       "      <td>1900.000</td>\n",
       "      <td>2015.000</td>\n",
       "    </tr>\n",
       "    <tr>\n",
       "      <th>yr_renovated</th>\n",
       "      <td>84.402</td>\n",
       "      <td>0.000</td>\n",
       "      <td>401.670</td>\n",
       "      <td>0.000</td>\n",
       "      <td>2015.000</td>\n",
       "    </tr>\n",
       "    <tr>\n",
       "      <th>zipcode</th>\n",
       "      <td>98077.940</td>\n",
       "      <td>98065.000</td>\n",
       "      <td>53.504</td>\n",
       "      <td>98001.000</td>\n",
       "      <td>98199.000</td>\n",
       "    </tr>\n",
       "    <tr>\n",
       "      <th>lat</th>\n",
       "      <td>47.560</td>\n",
       "      <td>47.572</td>\n",
       "      <td>0.139</td>\n",
       "      <td>47.156</td>\n",
       "      <td>47.778</td>\n",
       "    </tr>\n",
       "    <tr>\n",
       "      <th>long</th>\n",
       "      <td>-122.214</td>\n",
       "      <td>-122.230</td>\n",
       "      <td>0.141</td>\n",
       "      <td>-122.519</td>\n",
       "      <td>-121.315</td>\n",
       "    </tr>\n",
       "    <tr>\n",
       "      <th>sqft_living15</th>\n",
       "      <td>1986.552</td>\n",
       "      <td>1840.000</td>\n",
       "      <td>685.375</td>\n",
       "      <td>399.000</td>\n",
       "      <td>6210.000</td>\n",
       "    </tr>\n",
       "    <tr>\n",
       "      <th>sqft_lot15</th>\n",
       "      <td>12768.456</td>\n",
       "      <td>7620.000</td>\n",
       "      <td>27303.548</td>\n",
       "      <td>651.000</td>\n",
       "      <td>871200.000</td>\n",
       "    </tr>\n",
       "  </tbody>\n",
       "</table>\n",
       "</div>"
      ],
      "text/plain": [
       "                       Média        Mediana  Desvio Padrão      Mínimo  \\\n",
       "id            4580301520.865 3904930410.000 2876499023.428 1000102.000   \n",
       "price             540088.142     450000.000     367118.703   75000.000   \n",
       "bedrooms               3.371          3.000          0.930       0.000   \n",
       "bathrooms              2.115          2.250          0.770       0.000   \n",
       "sqft_living         2079.900       1910.000        918.420     290.000   \n",
       "sqft_lot           15106.968       7618.000      41419.553     520.000   \n",
       "floors                 1.494          1.500          0.540       1.000   \n",
       "waterfront             0.008          0.000          0.087       0.000   \n",
       "view                   0.234          0.000          0.766       0.000   \n",
       "condition              3.409          3.000          0.651       1.000   \n",
       "grade                  7.657          7.000          1.175       1.000   \n",
       "sqft_above          1788.396            NaN        828.109     290.000   \n",
       "sqft_basement        291.509          0.000        442.565       0.000   \n",
       "yr_built            1971.005       1975.000         29.373    1900.000   \n",
       "yr_renovated          84.402          0.000        401.670       0.000   \n",
       "zipcode            98077.940      98065.000         53.504   98001.000   \n",
       "lat                   47.560         47.572          0.139      47.156   \n",
       "long                -122.214       -122.230          0.141    -122.519   \n",
       "sqft_living15       1986.552       1840.000        685.375     399.000   \n",
       "sqft_lot15         12768.456       7620.000      27303.548     651.000   \n",
       "\n",
       "                      Máximo  \n",
       "id            9900000190.000  \n",
       "price            7700000.000  \n",
       "bedrooms              33.000  \n",
       "bathrooms              8.000  \n",
       "sqft_living        13540.000  \n",
       "sqft_lot         1651359.000  \n",
       "floors                 3.500  \n",
       "waterfront             1.000  \n",
       "view                   4.000  \n",
       "condition              5.000  \n",
       "grade                 13.000  \n",
       "sqft_above          9410.000  \n",
       "sqft_basement       4820.000  \n",
       "yr_built            2015.000  \n",
       "yr_renovated        2015.000  \n",
       "zipcode            98199.000  \n",
       "lat                   47.778  \n",
       "long                -121.315  \n",
       "sqft_living15       6210.000  \n",
       "sqft_lot15        871200.000  "
      ]
     },
     "execution_count": 9,
     "metadata": {},
     "output_type": "execute_result"
    }
   ],
   "source": [
    "#descriptive statistics \n",
    "\n",
    "num_attibutes = data.select_dtypes( include=[\"int64\", \"float64\"]) # quero somente essas colunas\n",
    "\n",
    "#central tendency -  media, mediana, std, min, max \n",
    "import numpy as np \n",
    "\n",
    "pd.set_option(\"display.float.format\", lambda x:\"%.3f\" % x) # arruma para sair de notação científica\n",
    "\n",
    "media =   pd.DataFrame( num_attibutes.apply(np.mean, axis = 0 )  )\n",
    "mediana = pd.DataFrame( num_attibutes.apply(np.median, axis = 0) )\n",
    "\n",
    "# dispersion - std, min, max \n",
    "std =   pd.DataFrame( num_attibutes.apply( np.std, axis = 0) )\n",
    "min_ =  pd.DataFrame( num_attibutes.apply( np.min, axis = 0) )\n",
    "max_ = pd.DataFrame( num_attibutes.apply( np.max, axis = 0) )\n",
    " \n",
    "    \n",
    "df2 = pd.concat([media, mediana, std, min_, max_], axis=1)\n",
    "\n",
    "\n",
    "df2.columns = [\"Média\", \"Mediana\", \"Desvio Padrão\", \"Mínimo\", \"Máximo\"]\n",
    "df2"
   ]
  },
  {
   "cell_type": "markdown",
   "id": "9fc0ded3",
   "metadata": {},
   "source": [
    "### 2.5 Columns Description"
   ]
  },
  {
   "cell_type": "markdown",
   "id": "6f210b64",
   "metadata": {},
   "source": [
    "id :uma notação para uma casa\n",
    "\n",
    "date: a data foi vendida\n",
    "\n",
    "price: o preço é a meta de previsão\n",
    "\n",
    "bedrooms:Número de quartos / casa\n",
    "\n",
    "bathrooms: Número de banheiros / quartos\n",
    "\n",
    "sqft_living: metragem quadrada da casa\n",
    "\n",
    "sqft_lot: metragem quadrada do lote\n",
    "\n",
    "floors :Total de pisos (níveis) na casa\n",
    "\n",
    "waterfront :casa com vista para a beira-mar\n",
    "\n",
    "view: foi visualizado\n",
    "\n",
    "condition :quão boa é a condição geral\n",
    "\n",
    "grade: nota geral dada à unidade habitacional, com base no sistema de classificação de King County\n",
    "\n",
    "sqft_above :metragem quadrada da casa além do porão\n",
    "\n",
    "sqft_basement: metragem quadrada do porão\n",
    "\n",
    "yr_built :Ano de construção\n",
    "\n",
    "yr_renovated :ano em que a casa foi reformada\n",
    "\n",
    "zipcode:código postal\n",
    "\n",
    "lat: coordenada de latitude\n",
    "\n",
    "long: coordenada de longitude\n",
    "\n",
    "sqft_living15 :Área da sala de estar em 2015 (implica-- algumas renovações) Isso pode ou não ter afetado o tamanho do lote\n",
    "\n",
    "sqft_lot15 :rea lotSize em 2015 (implica-- algumas renovações)"
   ]
  },
  {
   "cell_type": "markdown",
   "id": "36ce20f8",
   "metadata": {},
   "source": [
    "## 3.0 New Considerable Variables "
   ]
  },
  {
   "cell_type": "markdown",
   "id": "86225448",
   "metadata": {},
   "source": [
    "### 3.1 Price_Median on reference  the ZIP CODE (\"Código Postal\") "
   ]
  },
  {
   "cell_type": "markdown",
   "id": "3e00fae0",
   "metadata": {},
   "source": [
    "We need of price_median. To be that we need to create the new column to named \"price_median\". "
   ]
  },
  {
   "cell_type": "code",
   "execution_count": 10,
   "id": "3da28da4",
   "metadata": {},
   "outputs": [],
   "source": [
    "df = pd.DataFrame(data[[\"zipcode\", \"price\"]].groupby(\"zipcode\").median().reset_index())"
   ]
  },
  {
   "cell_type": "code",
   "execution_count": 11,
   "id": "50b4b938",
   "metadata": {},
   "outputs": [],
   "source": [
    "df = df.rename( columns = {\"price\": \"price_median\"})"
   ]
  },
  {
   "cell_type": "code",
   "execution_count": 12,
   "id": "6c646685",
   "metadata": {},
   "outputs": [],
   "source": [
    "df2 = pd.merge(data, df, on=\"zipcode\", how = \"inner\")"
   ]
  },
  {
   "cell_type": "code",
   "execution_count": 13,
   "id": "7b04fed0",
   "metadata": {},
   "outputs": [],
   "source": [
    "df2[\"status\"] = \"NA\"\n",
    "\n",
    "\n",
    "for i in range(len(df2)):\n",
    "    \n",
    "    if (df2.loc[i, \"price\"] < df2.loc[i, \"price_median\"]) & (df2.loc[i,\"condition\"] >=2):\n",
    "            df2.loc[i, \"status\"] = \"compra\"\n",
    "    else: \n",
    "           df2.loc[i, \"status\"] = \"não compra\""
   ]
  },
  {
   "cell_type": "markdown",
   "id": "aa2bcf80",
   "metadata": {},
   "source": [
    "### 3.2 Real State Level"
   ]
  },
  {
   "cell_type": "code",
   "execution_count": 14,
   "id": "a65af2fc",
   "metadata": {},
   "outputs": [],
   "source": [
    "df2[\"levels\"] = df2[\"price\"].apply(lambda x: \"Level 0\" if (x >= 0) & (x < 321950) else\n",
    "                                   \"Level 1\" if (x>=321950) & (x < 450000) else \n",
    "                                   \"Level 2\" if (x>=450000) & (x < 654000) else \n",
    "                                    \"Level 3\" )"
   ]
  },
  {
   "cell_type": "markdown",
   "id": "2b500ee2",
   "metadata": {},
   "source": [
    "### 3.3 Dormitory type"
   ]
  },
  {
   "cell_type": "code",
   "execution_count": 15,
   "id": "adc84b35",
   "metadata": {},
   "outputs": [],
   "source": [
    "# Studio == bedrooms igual ou menor que 1\n",
    "# Apart_or_House == bedrooms entre 2 e 4\n",
    "# house == bedrooms maior que 4\n",
    "\n",
    "df2['dormitory_type'] = df2['bedrooms'].apply(lambda x: 'studio' if x <=1 else \n",
    "                                              'apart_or_house' if (x >=2) & (x <= 3) else 'house')"
   ]
  },
  {
   "cell_type": "markdown",
   "id": "c39dbf63",
   "metadata": {},
   "source": [
    "### 3.3 Condition Type "
   ]
  },
  {
   "cell_type": "code",
   "execution_count": 16,
   "id": "887dde86",
   "metadata": {},
   "outputs": [],
   "source": [
    "# Bad == Se a condition for menor ou igual a 2\n",
    "# Regular == Se a condition for igual a 3 ou 4\n",
    "# Good == Se a condition for igual 5\n",
    "\n",
    "df2['condition_type'] = df2['condition'].apply(lambda x: 'bad' if x <= 2 else \n",
    "                                               'regular' if (x == 3) | (x == 4) else 'good')"
   ]
  },
  {
   "cell_type": "markdown",
   "id": "078678b5",
   "metadata": {},
   "source": [
    "### 3.4 Year of Built "
   ]
  },
  {
   "cell_type": "code",
   "execution_count": 17,
   "id": "f7f9c437",
   "metadata": {},
   "outputs": [],
   "source": [
    "df2[\"date-age\"] = df2[\"yr_built\"].apply(lambda x: \"new_house\" if x > 2014 else \"old_house\")"
   ]
  },
  {
   "cell_type": "markdown",
   "id": "73db8527",
   "metadata": {},
   "source": [
    "### 3.5 DIF - \"PRICE\" / \"PRICE_MEDIAN\""
   ]
  },
  {
   "cell_type": "code",
   "execution_count": 18,
   "id": "a515e42a",
   "metadata": {},
   "outputs": [],
   "source": [
    "df2[\"dif\"] = \"NA\"\n",
    "\n",
    "\n",
    "for i in range(len(df2)):\n",
    "     df2.loc[i,\"dif\"] = round((((1-(df2.loc[i,\"price\"]) / df2.loc[i,\"price_median\"])) * 100),2)\n",
    "     \n"
   ]
  },
  {
   "cell_type": "code",
   "execution_count": 19,
   "id": "1886e3f6",
   "metadata": {},
   "outputs": [
    {
     "data": {
      "text/html": [
       "<div>\n",
       "<style scoped>\n",
       "    .dataframe tbody tr th:only-of-type {\n",
       "        vertical-align: middle;\n",
       "    }\n",
       "\n",
       "    .dataframe tbody tr th {\n",
       "        vertical-align: top;\n",
       "    }\n",
       "\n",
       "    .dataframe thead th {\n",
       "        text-align: right;\n",
       "    }\n",
       "</style>\n",
       "<table border=\"1\" class=\"dataframe\">\n",
       "  <thead>\n",
       "    <tr style=\"text-align: right;\">\n",
       "      <th></th>\n",
       "      <th>id</th>\n",
       "      <th>date</th>\n",
       "      <th>price</th>\n",
       "      <th>bedrooms</th>\n",
       "      <th>bathrooms</th>\n",
       "      <th>sqft_living</th>\n",
       "      <th>sqft_lot</th>\n",
       "      <th>floors</th>\n",
       "      <th>waterfront</th>\n",
       "      <th>view</th>\n",
       "      <th>...</th>\n",
       "      <th>long</th>\n",
       "      <th>sqft_living15</th>\n",
       "      <th>sqft_lot15</th>\n",
       "      <th>price_median</th>\n",
       "      <th>status</th>\n",
       "      <th>levels</th>\n",
       "      <th>dormitory_type</th>\n",
       "      <th>condition_type</th>\n",
       "      <th>date-age</th>\n",
       "      <th>dif</th>\n",
       "    </tr>\n",
       "  </thead>\n",
       "  <tbody>\n",
       "    <tr>\n",
       "      <th>0</th>\n",
       "      <td>7129300520</td>\n",
       "      <td>2014-10-13</td>\n",
       "      <td>221900.000</td>\n",
       "      <td>3</td>\n",
       "      <td>1.000</td>\n",
       "      <td>1180</td>\n",
       "      <td>5650</td>\n",
       "      <td>1.000</td>\n",
       "      <td>0</td>\n",
       "      <td>0</td>\n",
       "      <td>...</td>\n",
       "      <td>-122.257</td>\n",
       "      <td>1340</td>\n",
       "      <td>5650</td>\n",
       "      <td>278277.000</td>\n",
       "      <td>compra</td>\n",
       "      <td>Level 0</td>\n",
       "      <td>apart_or_house</td>\n",
       "      <td>regular</td>\n",
       "      <td>old_house</td>\n",
       "      <td>20.260</td>\n",
       "    </tr>\n",
       "    <tr>\n",
       "      <th>1</th>\n",
       "      <td>4060000240</td>\n",
       "      <td>2014-06-23</td>\n",
       "      <td>205425.000</td>\n",
       "      <td>2</td>\n",
       "      <td>1.000</td>\n",
       "      <td>880</td>\n",
       "      <td>6780</td>\n",
       "      <td>1.000</td>\n",
       "      <td>0</td>\n",
       "      <td>0</td>\n",
       "      <td>...</td>\n",
       "      <td>-122.248</td>\n",
       "      <td>1190</td>\n",
       "      <td>6780</td>\n",
       "      <td>278277.000</td>\n",
       "      <td>compra</td>\n",
       "      <td>Level 0</td>\n",
       "      <td>apart_or_house</td>\n",
       "      <td>regular</td>\n",
       "      <td>old_house</td>\n",
       "      <td>26.180</td>\n",
       "    </tr>\n",
       "    <tr>\n",
       "      <th>2</th>\n",
       "      <td>4058801670</td>\n",
       "      <td>2014-07-17</td>\n",
       "      <td>445000.000</td>\n",
       "      <td>3</td>\n",
       "      <td>2.250</td>\n",
       "      <td>2100</td>\n",
       "      <td>8201</td>\n",
       "      <td>1.000</td>\n",
       "      <td>0</td>\n",
       "      <td>2</td>\n",
       "      <td>...</td>\n",
       "      <td>-122.244</td>\n",
       "      <td>2660</td>\n",
       "      <td>8712</td>\n",
       "      <td>278277.000</td>\n",
       "      <td>não compra</td>\n",
       "      <td>Level 1</td>\n",
       "      <td>apart_or_house</td>\n",
       "      <td>regular</td>\n",
       "      <td>old_house</td>\n",
       "      <td>-59.910</td>\n",
       "    </tr>\n",
       "    <tr>\n",
       "      <th>3</th>\n",
       "      <td>2976800796</td>\n",
       "      <td>2014-09-25</td>\n",
       "      <td>236000.000</td>\n",
       "      <td>3</td>\n",
       "      <td>1.000</td>\n",
       "      <td>1300</td>\n",
       "      <td>5898</td>\n",
       "      <td>1.000</td>\n",
       "      <td>0</td>\n",
       "      <td>0</td>\n",
       "      <td>...</td>\n",
       "      <td>-122.255</td>\n",
       "      <td>1320</td>\n",
       "      <td>7619</td>\n",
       "      <td>278277.000</td>\n",
       "      <td>compra</td>\n",
       "      <td>Level 0</td>\n",
       "      <td>apart_or_house</td>\n",
       "      <td>regular</td>\n",
       "      <td>old_house</td>\n",
       "      <td>15.190</td>\n",
       "    </tr>\n",
       "    <tr>\n",
       "      <th>4</th>\n",
       "      <td>6874200960</td>\n",
       "      <td>2015-02-27</td>\n",
       "      <td>170000.000</td>\n",
       "      <td>2</td>\n",
       "      <td>1.000</td>\n",
       "      <td>860</td>\n",
       "      <td>5265</td>\n",
       "      <td>1.000</td>\n",
       "      <td>0</td>\n",
       "      <td>0</td>\n",
       "      <td>...</td>\n",
       "      <td>-122.272</td>\n",
       "      <td>1650</td>\n",
       "      <td>8775</td>\n",
       "      <td>278277.000</td>\n",
       "      <td>compra</td>\n",
       "      <td>Level 0</td>\n",
       "      <td>apart_or_house</td>\n",
       "      <td>regular</td>\n",
       "      <td>old_house</td>\n",
       "      <td>38.910</td>\n",
       "    </tr>\n",
       "    <tr>\n",
       "      <th>...</th>\n",
       "      <td>...</td>\n",
       "      <td>...</td>\n",
       "      <td>...</td>\n",
       "      <td>...</td>\n",
       "      <td>...</td>\n",
       "      <td>...</td>\n",
       "      <td>...</td>\n",
       "      <td>...</td>\n",
       "      <td>...</td>\n",
       "      <td>...</td>\n",
       "      <td>...</td>\n",
       "      <td>...</td>\n",
       "      <td>...</td>\n",
       "      <td>...</td>\n",
       "      <td>...</td>\n",
       "      <td>...</td>\n",
       "      <td>...</td>\n",
       "      <td>...</td>\n",
       "      <td>...</td>\n",
       "      <td>...</td>\n",
       "      <td>...</td>\n",
       "    </tr>\n",
       "    <tr>\n",
       "      <th>21608</th>\n",
       "      <td>2525049086</td>\n",
       "      <td>2014-10-03</td>\n",
       "      <td>2720000.000</td>\n",
       "      <td>4</td>\n",
       "      <td>3.250</td>\n",
       "      <td>3990</td>\n",
       "      <td>18115</td>\n",
       "      <td>2.000</td>\n",
       "      <td>0</td>\n",
       "      <td>0</td>\n",
       "      <td>...</td>\n",
       "      <td>-122.229</td>\n",
       "      <td>3450</td>\n",
       "      <td>16087</td>\n",
       "      <td>1892500.000</td>\n",
       "      <td>não compra</td>\n",
       "      <td>Level 3</td>\n",
       "      <td>house</td>\n",
       "      <td>regular</td>\n",
       "      <td>old_house</td>\n",
       "      <td>-43.730</td>\n",
       "    </tr>\n",
       "    <tr>\n",
       "      <th>21609</th>\n",
       "      <td>2525049113</td>\n",
       "      <td>2014-07-25</td>\n",
       "      <td>1950000.000</td>\n",
       "      <td>4</td>\n",
       "      <td>3.500</td>\n",
       "      <td>4065</td>\n",
       "      <td>18713</td>\n",
       "      <td>2.000</td>\n",
       "      <td>0</td>\n",
       "      <td>0</td>\n",
       "      <td>...</td>\n",
       "      <td>-122.237</td>\n",
       "      <td>3070</td>\n",
       "      <td>18713</td>\n",
       "      <td>1892500.000</td>\n",
       "      <td>não compra</td>\n",
       "      <td>Level 3</td>\n",
       "      <td>house</td>\n",
       "      <td>regular</td>\n",
       "      <td>old_house</td>\n",
       "      <td>-3.040</td>\n",
       "    </tr>\n",
       "    <tr>\n",
       "      <th>21610</th>\n",
       "      <td>3262300485</td>\n",
       "      <td>2015-04-21</td>\n",
       "      <td>2250000.000</td>\n",
       "      <td>5</td>\n",
       "      <td>5.250</td>\n",
       "      <td>3410</td>\n",
       "      <td>8118</td>\n",
       "      <td>2.000</td>\n",
       "      <td>0</td>\n",
       "      <td>0</td>\n",
       "      <td>...</td>\n",
       "      <td>-122.236</td>\n",
       "      <td>3410</td>\n",
       "      <td>16236</td>\n",
       "      <td>1892500.000</td>\n",
       "      <td>não compra</td>\n",
       "      <td>Level 3</td>\n",
       "      <td>house</td>\n",
       "      <td>regular</td>\n",
       "      <td>old_house</td>\n",
       "      <td>-18.890</td>\n",
       "    </tr>\n",
       "    <tr>\n",
       "      <th>21611</th>\n",
       "      <td>6447300365</td>\n",
       "      <td>2014-11-13</td>\n",
       "      <td>2900000.000</td>\n",
       "      <td>5</td>\n",
       "      <td>4.000</td>\n",
       "      <td>5190</td>\n",
       "      <td>14600</td>\n",
       "      <td>2.000</td>\n",
       "      <td>0</td>\n",
       "      <td>1</td>\n",
       "      <td>...</td>\n",
       "      <td>-122.225</td>\n",
       "      <td>3840</td>\n",
       "      <td>19250</td>\n",
       "      <td>1892500.000</td>\n",
       "      <td>não compra</td>\n",
       "      <td>Level 3</td>\n",
       "      <td>house</td>\n",
       "      <td>regular</td>\n",
       "      <td>old_house</td>\n",
       "      <td>-53.240</td>\n",
       "    </tr>\n",
       "    <tr>\n",
       "      <th>21612</th>\n",
       "      <td>3262300818</td>\n",
       "      <td>2015-02-27</td>\n",
       "      <td>1865000.000</td>\n",
       "      <td>4</td>\n",
       "      <td>3.750</td>\n",
       "      <td>3790</td>\n",
       "      <td>8797</td>\n",
       "      <td>2.000</td>\n",
       "      <td>0</td>\n",
       "      <td>0</td>\n",
       "      <td>...</td>\n",
       "      <td>-122.236</td>\n",
       "      <td>2660</td>\n",
       "      <td>12150</td>\n",
       "      <td>1892500.000</td>\n",
       "      <td>compra</td>\n",
       "      <td>Level 3</td>\n",
       "      <td>house</td>\n",
       "      <td>regular</td>\n",
       "      <td>old_house</td>\n",
       "      <td>1.450</td>\n",
       "    </tr>\n",
       "  </tbody>\n",
       "</table>\n",
       "<p>21613 rows × 28 columns</p>\n",
       "</div>"
      ],
      "text/plain": [
       "               id       date       price  bedrooms  bathrooms  sqft_living  \\\n",
       "0      7129300520 2014-10-13  221900.000         3      1.000         1180   \n",
       "1      4060000240 2014-06-23  205425.000         2      1.000          880   \n",
       "2      4058801670 2014-07-17  445000.000         3      2.250         2100   \n",
       "3      2976800796 2014-09-25  236000.000         3      1.000         1300   \n",
       "4      6874200960 2015-02-27  170000.000         2      1.000          860   \n",
       "...           ...        ...         ...       ...        ...          ...   \n",
       "21608  2525049086 2014-10-03 2720000.000         4      3.250         3990   \n",
       "21609  2525049113 2014-07-25 1950000.000         4      3.500         4065   \n",
       "21610  3262300485 2015-04-21 2250000.000         5      5.250         3410   \n",
       "21611  6447300365 2014-11-13 2900000.000         5      4.000         5190   \n",
       "21612  3262300818 2015-02-27 1865000.000         4      3.750         3790   \n",
       "\n",
       "       sqft_lot  floors  waterfront  view  ...     long  sqft_living15  \\\n",
       "0          5650   1.000           0     0  ... -122.257           1340   \n",
       "1          6780   1.000           0     0  ... -122.248           1190   \n",
       "2          8201   1.000           0     2  ... -122.244           2660   \n",
       "3          5898   1.000           0     0  ... -122.255           1320   \n",
       "4          5265   1.000           0     0  ... -122.272           1650   \n",
       "...         ...     ...         ...   ...  ...      ...            ...   \n",
       "21608     18115   2.000           0     0  ... -122.229           3450   \n",
       "21609     18713   2.000           0     0  ... -122.237           3070   \n",
       "21610      8118   2.000           0     0  ... -122.236           3410   \n",
       "21611     14600   2.000           0     1  ... -122.225           3840   \n",
       "21612      8797   2.000           0     0  ... -122.236           2660   \n",
       "\n",
       "       sqft_lot15  price_median      status   levels  dormitory_type  \\\n",
       "0            5650    278277.000      compra  Level 0  apart_or_house   \n",
       "1            6780    278277.000      compra  Level 0  apart_or_house   \n",
       "2            8712    278277.000  não compra  Level 1  apart_or_house   \n",
       "3            7619    278277.000      compra  Level 0  apart_or_house   \n",
       "4            8775    278277.000      compra  Level 0  apart_or_house   \n",
       "...           ...           ...         ...      ...             ...   \n",
       "21608       16087   1892500.000  não compra  Level 3           house   \n",
       "21609       18713   1892500.000  não compra  Level 3           house   \n",
       "21610       16236   1892500.000  não compra  Level 3           house   \n",
       "21611       19250   1892500.000  não compra  Level 3           house   \n",
       "21612       12150   1892500.000      compra  Level 3           house   \n",
       "\n",
       "       condition_type   date-age     dif  \n",
       "0             regular  old_house  20.260  \n",
       "1             regular  old_house  26.180  \n",
       "2             regular  old_house -59.910  \n",
       "3             regular  old_house  15.190  \n",
       "4             regular  old_house  38.910  \n",
       "...               ...        ...     ...  \n",
       "21608         regular  old_house -43.730  \n",
       "21609         regular  old_house  -3.040  \n",
       "21610         regular  old_house -18.890  \n",
       "21611         regular  old_house -53.240  \n",
       "21612         regular  old_house   1.450  \n",
       "\n",
       "[21613 rows x 28 columns]"
      ]
     },
     "execution_count": 19,
     "metadata": {},
     "output_type": "execute_result"
    }
   ],
   "source": [
    "df2"
   ]
  },
  {
   "cell_type": "markdown",
   "id": "96b304d5",
   "metadata": {},
   "source": [
    "## 4.0 Exploratory Analysis"
   ]
  },
  {
   "cell_type": "code",
   "execution_count": 20,
   "id": "2326c376",
   "metadata": {},
   "outputs": [],
   "source": [
    "df3 = df2.copy()"
   ]
  },
  {
   "cell_type": "code",
   "execution_count": 21,
   "id": "9d71f68c",
   "metadata": {
    "scrolled": true
   },
   "outputs": [
    {
     "name": "stderr",
     "output_type": "stream",
     "text": [
      "C:\\Users\\guisg\\anaconda3\\envs\\pythonProject\\lib\\site-packages\\seaborn\\distributions.py:2619: FutureWarning: `distplot` is a deprecated function and will be removed in a future version. Please adapt your code to use either `displot` (a figure-level function with similar flexibility) or `histplot` (an axes-level function for histograms).\n",
      "  warnings.warn(msg, FutureWarning)\n"
     ]
    },
    {
     "data": {
      "image/png": "[encoded data removed]",
      "text/plain": [
       "<Figure size 1440x720 with 1 Axes>"
      ]
     },
     "metadata": {},
     "output_type": "display_data"
    }
   ],
   "source": [
    "grafdisplot(df3[\"price\"])"
   ]
  },
  {
   "cell_type": "code",
   "execution_count": 22,
   "id": "5d591aba",
   "metadata": {},
   "outputs": [
    {
     "data": {
      "text/html": [
       "<div>\n",
       "<style scoped>\n",
       "    .dataframe tbody tr th:only-of-type {\n",
       "        vertical-align: middle;\n",
       "    }\n",
       "\n",
       "    .dataframe tbody tr th {\n",
       "        vertical-align: top;\n",
       "    }\n",
       "\n",
       "    .dataframe thead th {\n",
       "        text-align: right;\n",
       "    }\n",
       "</style>\n",
       "<table border=\"1\" class=\"dataframe\">\n",
       "  <thead>\n",
       "    <tr style=\"text-align: right;\">\n",
       "      <th></th>\n",
       "      <th>id</th>\n",
       "      <th>date</th>\n",
       "      <th>price</th>\n",
       "      <th>bedrooms</th>\n",
       "      <th>bathrooms</th>\n",
       "      <th>sqft_living</th>\n",
       "      <th>sqft_lot</th>\n",
       "      <th>floors</th>\n",
       "      <th>waterfront</th>\n",
       "      <th>view</th>\n",
       "      <th>...</th>\n",
       "      <th>long</th>\n",
       "      <th>sqft_living15</th>\n",
       "      <th>sqft_lot15</th>\n",
       "      <th>price_median</th>\n",
       "      <th>status</th>\n",
       "      <th>levels</th>\n",
       "      <th>dormitory_type</th>\n",
       "      <th>condition_type</th>\n",
       "      <th>date-age</th>\n",
       "      <th>dif</th>\n",
       "    </tr>\n",
       "  </thead>\n",
       "  <tbody>\n",
       "    <tr>\n",
       "      <th>0</th>\n",
       "      <td>7129300520</td>\n",
       "      <td>2014-10-13</td>\n",
       "      <td>221900.000</td>\n",
       "      <td>3</td>\n",
       "      <td>1.000</td>\n",
       "      <td>1180</td>\n",
       "      <td>5650</td>\n",
       "      <td>1.000</td>\n",
       "      <td>0</td>\n",
       "      <td>0</td>\n",
       "      <td>...</td>\n",
       "      <td>-122.257</td>\n",
       "      <td>1340</td>\n",
       "      <td>5650</td>\n",
       "      <td>278277.000</td>\n",
       "      <td>compra</td>\n",
       "      <td>Level 0</td>\n",
       "      <td>apart_or_house</td>\n",
       "      <td>regular</td>\n",
       "      <td>old_house</td>\n",
       "      <td>20.260</td>\n",
       "    </tr>\n",
       "    <tr>\n",
       "      <th>1</th>\n",
       "      <td>4060000240</td>\n",
       "      <td>2014-06-23</td>\n",
       "      <td>205425.000</td>\n",
       "      <td>2</td>\n",
       "      <td>1.000</td>\n",
       "      <td>880</td>\n",
       "      <td>6780</td>\n",
       "      <td>1.000</td>\n",
       "      <td>0</td>\n",
       "      <td>0</td>\n",
       "      <td>...</td>\n",
       "      <td>-122.248</td>\n",
       "      <td>1190</td>\n",
       "      <td>6780</td>\n",
       "      <td>278277.000</td>\n",
       "      <td>compra</td>\n",
       "      <td>Level 0</td>\n",
       "      <td>apart_or_house</td>\n",
       "      <td>regular</td>\n",
       "      <td>old_house</td>\n",
       "      <td>26.180</td>\n",
       "    </tr>\n",
       "    <tr>\n",
       "      <th>2</th>\n",
       "      <td>4058801670</td>\n",
       "      <td>2014-07-17</td>\n",
       "      <td>445000.000</td>\n",
       "      <td>3</td>\n",
       "      <td>2.250</td>\n",
       "      <td>2100</td>\n",
       "      <td>8201</td>\n",
       "      <td>1.000</td>\n",
       "      <td>0</td>\n",
       "      <td>2</td>\n",
       "      <td>...</td>\n",
       "      <td>-122.244</td>\n",
       "      <td>2660</td>\n",
       "      <td>8712</td>\n",
       "      <td>278277.000</td>\n",
       "      <td>não compra</td>\n",
       "      <td>Level 1</td>\n",
       "      <td>apart_or_house</td>\n",
       "      <td>regular</td>\n",
       "      <td>old_house</td>\n",
       "      <td>-59.910</td>\n",
       "    </tr>\n",
       "    <tr>\n",
       "      <th>3</th>\n",
       "      <td>2976800796</td>\n",
       "      <td>2014-09-25</td>\n",
       "      <td>236000.000</td>\n",
       "      <td>3</td>\n",
       "      <td>1.000</td>\n",
       "      <td>1300</td>\n",
       "      <td>5898</td>\n",
       "      <td>1.000</td>\n",
       "      <td>0</td>\n",
       "      <td>0</td>\n",
       "      <td>...</td>\n",
       "      <td>-122.255</td>\n",
       "      <td>1320</td>\n",
       "      <td>7619</td>\n",
       "      <td>278277.000</td>\n",
       "      <td>compra</td>\n",
       "      <td>Level 0</td>\n",
       "      <td>apart_or_house</td>\n",
       "      <td>regular</td>\n",
       "      <td>old_house</td>\n",
       "      <td>15.190</td>\n",
       "    </tr>\n",
       "    <tr>\n",
       "      <th>4</th>\n",
       "      <td>6874200960</td>\n",
       "      <td>2015-02-27</td>\n",
       "      <td>170000.000</td>\n",
       "      <td>2</td>\n",
       "      <td>1.000</td>\n",
       "      <td>860</td>\n",
       "      <td>5265</td>\n",
       "      <td>1.000</td>\n",
       "      <td>0</td>\n",
       "      <td>0</td>\n",
       "      <td>...</td>\n",
       "      <td>-122.272</td>\n",
       "      <td>1650</td>\n",
       "      <td>8775</td>\n",
       "      <td>278277.000</td>\n",
       "      <td>compra</td>\n",
       "      <td>Level 0</td>\n",
       "      <td>apart_or_house</td>\n",
       "      <td>regular</td>\n",
       "      <td>old_house</td>\n",
       "      <td>38.910</td>\n",
       "    </tr>\n",
       "    <tr>\n",
       "      <th>...</th>\n",
       "      <td>...</td>\n",
       "      <td>...</td>\n",
       "      <td>...</td>\n",
       "      <td>...</td>\n",
       "      <td>...</td>\n",
       "      <td>...</td>\n",
       "      <td>...</td>\n",
       "      <td>...</td>\n",
       "      <td>...</td>\n",
       "      <td>...</td>\n",
       "      <td>...</td>\n",
       "      <td>...</td>\n",
       "      <td>...</td>\n",
       "      <td>...</td>\n",
       "      <td>...</td>\n",
       "      <td>...</td>\n",
       "      <td>...</td>\n",
       "      <td>...</td>\n",
       "      <td>...</td>\n",
       "      <td>...</td>\n",
       "      <td>...</td>\n",
       "    </tr>\n",
       "    <tr>\n",
       "      <th>21608</th>\n",
       "      <td>2525049086</td>\n",
       "      <td>2014-10-03</td>\n",
       "      <td>2720000.000</td>\n",
       "      <td>4</td>\n",
       "      <td>3.250</td>\n",
       "      <td>3990</td>\n",
       "      <td>18115</td>\n",
       "      <td>2.000</td>\n",
       "      <td>0</td>\n",
       "      <td>0</td>\n",
       "      <td>...</td>\n",
       "      <td>-122.229</td>\n",
       "      <td>3450</td>\n",
       "      <td>16087</td>\n",
       "      <td>1892500.000</td>\n",
       "      <td>não compra</td>\n",
       "      <td>Level 3</td>\n",
       "      <td>house</td>\n",
       "      <td>regular</td>\n",
       "      <td>old_house</td>\n",
       "      <td>-43.730</td>\n",
       "    </tr>\n",
       "    <tr>\n",
       "      <th>21609</th>\n",
       "      <td>2525049113</td>\n",
       "      <td>2014-07-25</td>\n",
       "      <td>1950000.000</td>\n",
       "      <td>4</td>\n",
       "      <td>3.500</td>\n",
       "      <td>4065</td>\n",
       "      <td>18713</td>\n",
       "      <td>2.000</td>\n",
       "      <td>0</td>\n",
       "      <td>0</td>\n",
       "      <td>...</td>\n",
       "      <td>-122.237</td>\n",
       "      <td>3070</td>\n",
       "      <td>18713</td>\n",
       "      <td>1892500.000</td>\n",
       "      <td>não compra</td>\n",
       "      <td>Level 3</td>\n",
       "      <td>house</td>\n",
       "      <td>regular</td>\n",
       "      <td>old_house</td>\n",
       "      <td>-3.040</td>\n",
       "    </tr>\n",
       "    <tr>\n",
       "      <th>21610</th>\n",
       "      <td>3262300485</td>\n",
       "      <td>2015-04-21</td>\n",
       "      <td>2250000.000</td>\n",
       "      <td>5</td>\n",
       "      <td>5.250</td>\n",
       "      <td>3410</td>\n",
       "      <td>8118</td>\n",
       "      <td>2.000</td>\n",
       "      <td>0</td>\n",
       "      <td>0</td>\n",
       "      <td>...</td>\n",
       "      <td>-122.236</td>\n",
       "      <td>3410</td>\n",
       "      <td>16236</td>\n",
       "      <td>1892500.000</td>\n",
       "      <td>não compra</td>\n",
       "      <td>Level 3</td>\n",
       "      <td>house</td>\n",
       "      <td>regular</td>\n",
       "      <td>old_house</td>\n",
       "      <td>-18.890</td>\n",
       "    </tr>\n",
       "    <tr>\n",
       "      <th>21611</th>\n",
       "      <td>6447300365</td>\n",
       "      <td>2014-11-13</td>\n",
       "      <td>2900000.000</td>\n",
       "      <td>5</td>\n",
       "      <td>4.000</td>\n",
       "      <td>5190</td>\n",
       "      <td>14600</td>\n",
       "      <td>2.000</td>\n",
       "      <td>0</td>\n",
       "      <td>1</td>\n",
       "      <td>...</td>\n",
       "      <td>-122.225</td>\n",
       "      <td>3840</td>\n",
       "      <td>19250</td>\n",
       "      <td>1892500.000</td>\n",
       "      <td>não compra</td>\n",
       "      <td>Level 3</td>\n",
       "      <td>house</td>\n",
       "      <td>regular</td>\n",
       "      <td>old_house</td>\n",
       "      <td>-53.240</td>\n",
       "    </tr>\n",
       "    <tr>\n",
       "      <th>21612</th>\n",
       "      <td>3262300818</td>\n",
       "      <td>2015-02-27</td>\n",
       "      <td>1865000.000</td>\n",
       "      <td>4</td>\n",
       "      <td>3.750</td>\n",
       "      <td>3790</td>\n",
       "      <td>8797</td>\n",
       "      <td>2.000</td>\n",
       "      <td>0</td>\n",
       "      <td>0</td>\n",
       "      <td>...</td>\n",
       "      <td>-122.236</td>\n",
       "      <td>2660</td>\n",
       "      <td>12150</td>\n",
       "      <td>1892500.000</td>\n",
       "      <td>compra</td>\n",
       "      <td>Level 3</td>\n",
       "      <td>house</td>\n",
       "      <td>regular</td>\n",
       "      <td>old_house</td>\n",
       "      <td>1.450</td>\n",
       "    </tr>\n",
       "  </tbody>\n",
       "</table>\n",
       "<p>21613 rows × 28 columns</p>\n",
       "</div>"
      ],
      "text/plain": [
       "               id       date       price  bedrooms  bathrooms  sqft_living  \\\n",
       "0      7129300520 2014-10-13  221900.000         3      1.000         1180   \n",
       "1      4060000240 2014-06-23  205425.000         2      1.000          880   \n",
       "2      4058801670 2014-07-17  445000.000         3      2.250         2100   \n",
       "3      2976800796 2014-09-25  236000.000         3      1.000         1300   \n",
       "4      6874200960 2015-02-27  170000.000         2      1.000          860   \n",
       "...           ...        ...         ...       ...        ...          ...   \n",
       "21608  2525049086 2014-10-03 2720000.000         4      3.250         3990   \n",
       "21609  2525049113 2014-07-25 1950000.000         4      3.500         4065   \n",
       "21610  3262300485 2015-04-21 2250000.000         5      5.250         3410   \n",
       "21611  6447300365 2014-11-13 2900000.000         5      4.000         5190   \n",
       "21612  3262300818 2015-02-27 1865000.000         4      3.750         3790   \n",
       "\n",
       "       sqft_lot  floors  waterfront  view  ...     long  sqft_living15  \\\n",
       "0          5650   1.000           0     0  ... -122.257           1340   \n",
       "1          6780   1.000           0     0  ... -122.248           1190   \n",
       "2          8201   1.000           0     2  ... -122.244           2660   \n",
       "3          5898   1.000           0     0  ... -122.255           1320   \n",
       "4          5265   1.000           0     0  ... -122.272           1650   \n",
       "...         ...     ...         ...   ...  ...      ...            ...   \n",
       "21608     18115   2.000           0     0  ... -122.229           3450   \n",
       "21609     18713   2.000           0     0  ... -122.237           3070   \n",
       "21610      8118   2.000           0     0  ... -122.236           3410   \n",
       "21611     14600   2.000           0     1  ... -122.225           3840   \n",
       "21612      8797   2.000           0     0  ... -122.236           2660   \n",
       "\n",
       "       sqft_lot15  price_median      status   levels  dormitory_type  \\\n",
       "0            5650    278277.000      compra  Level 0  apart_or_house   \n",
       "1            6780    278277.000      compra  Level 0  apart_or_house   \n",
       "2            8712    278277.000  não compra  Level 1  apart_or_house   \n",
       "3            7619    278277.000      compra  Level 0  apart_or_house   \n",
       "4            8775    278277.000      compra  Level 0  apart_or_house   \n",
       "...           ...           ...         ...      ...             ...   \n",
       "21608       16087   1892500.000  não compra  Level 3           house   \n",
       "21609       18713   1892500.000  não compra  Level 3           house   \n",
       "21610       16236   1892500.000  não compra  Level 3           house   \n",
       "21611       19250   1892500.000  não compra  Level 3           house   \n",
       "21612       12150   1892500.000      compra  Level 3           house   \n",
       "\n",
       "       condition_type   date-age     dif  \n",
       "0             regular  old_house  20.260  \n",
       "1             regular  old_house  26.180  \n",
       "2             regular  old_house -59.910  \n",
       "3             regular  old_house  15.190  \n",
       "4             regular  old_house  38.910  \n",
       "...               ...        ...     ...  \n",
       "21608         regular  old_house -43.730  \n",
       "21609         regular  old_house  -3.040  \n",
       "21610         regular  old_house -18.890  \n",
       "21611         regular  old_house -53.240  \n",
       "21612         regular  old_house   1.450  \n",
       "\n",
       "[21613 rows x 28 columns]"
      ]
     },
     "execution_count": 22,
     "metadata": {},
     "output_type": "execute_result"
    }
   ],
   "source": [
    "df3"
   ]
  },
  {
   "cell_type": "markdown",
   "id": "40372ff1",
   "metadata": {},
   "source": [
    "### H1. A maioria das casas com 3 quartos são acima da mediana do preço.\n"
   ]
  },
  {
   "cell_type": "markdown",
   "id": "1a2e74ba",
   "metadata": {},
   "source": [
    "  **FALSA**                       A maioria das casas estão abaixo da mediana de mercado "
   ]
  },
  {
   "cell_type": "code",
   "execution_count": 23,
   "id": "55ac64d6",
   "metadata": {},
   "outputs": [],
   "source": [
    "df4 = df2.copy()"
   ]
  },
  {
   "cell_type": "code",
   "execution_count": 24,
   "id": "9a2a7e37",
   "metadata": {},
   "outputs": [
    {
     "name": "stdout",
     "output_type": "stream",
     "text": [
      "Quantidade de casas com 3 quartos: 9824 uninidades\n",
      "Quantidade de casas acima do valor da mediana dos preços: 4083 uninidades\n",
      "Quantidade de casas abaixo do valor da mediana dos preços: 5741 unidades\n"
     ]
    }
   ],
   "source": [
    "house_bed3 = len(df4[df4['bedrooms'] == 3])\n",
    "h_upmedian = len(df4[(df4['bedrooms'] == 3) & (df4['price'] > df4['price'].median())])\n",
    "h_belowmedian = len(df4[(df4['bedrooms'] == 3) & (df4['price'] <= df4['price'].median())])\n",
    "print('Quantidade de casas com 3 quartos: {} uninidades'.format(house_bed3))\n",
    "print('Quantidade de casas acima do valor da mediana dos preços: {} uninidades'.format(h_upmedian))\n",
    "print('Quantidade de casas abaixo do valor da mediana dos preços: {} unidades'.format(h_belowmedian))"
   ]
  },
  {
   "cell_type": "markdown",
   "id": "0fc5ba5c",
   "metadata": {},
   "source": [
    "### H2. A maioria das casas com 3 quartos e 2 banheiros são acima da mediana do preço."
   ]
  },
  {
   "cell_type": "markdown",
   "id": "598d4ea1",
   "metadata": {},
   "source": [
    "**FALSA** "
   ]
  },
  {
   "cell_type": "code",
   "execution_count": 25,
   "id": "63ba33f0",
   "metadata": {},
   "outputs": [
    {
     "name": "stdout",
     "output_type": "stream",
     "text": [
      "Quantidade de casas com 3 quartos: 1048 uninidades\n",
      "Quantidade de casas acima do valor da mediana dos preços: 423 uninidades\n",
      "Quantidade de casas abaixo do valor da mediana dos preços: 625 unidades\n"
     ]
    },
    {
     "data": {
      "image/png": "[encoded data removed]",
      "text/plain": [
       "<Figure size 1440x720 with 1 Axes>"
      ]
     },
     "metadata": {},
     "output_type": "display_data"
    }
   ],
   "source": [
    "house_bed3 = len(df4[(df4['bedrooms'] == 3) & (df4[\"bathrooms\"] == 2)])\n",
    "h_upmedian = len(df4[(df4['bedrooms'] == 3) & (df4[\"bathrooms\"] == 2) & (df4['price'] > df4['price'].median())])\n",
    "h_belowmedian = len(df4[(df4['bedrooms'] == 3) &  (df4[\"bathrooms\"] == 2) & (df4['price'] <= df4['price'].median())])\n",
    "print('Quantidade de casas com 3 quartos: {} uninidades'.format(house_bed3))\n",
    "print('Quantidade de casas acima do valor da mediana dos preços: {} uninidades'.format(h_upmedian))\n",
    "print('Quantidade de casas abaixo do valor da mediana dos preços: {} unidades'.format(h_belowmedian))\n",
    "\n",
    "plt.title('Casas agrupadas por quartos X banheiros')\n",
    "sns.stripplot(y = df4['bathrooms'], x = df4['bedrooms']);"
   ]
  },
  {
   "cell_type": "markdown",
   "id": "35add2b0",
   "metadata": {},
   "source": [
    "### H3. Casas com com vista para água são 100% mais caras que a mediana do preço.\n"
   ]
  },
  {
   "cell_type": "markdown",
   "id": "ff06dc03",
   "metadata": {},
   "source": [
    "**VERDADEIRO** "
   ]
  },
  {
   "cell_type": "code",
   "execution_count": 26,
   "id": "07940a34",
   "metadata": {},
   "outputs": [
    {
     "name": "stdout",
     "output_type": "stream",
     "text": [
      "Quantidade de casas mais do que a mediana do preço 154\n",
      "Quantidade de casas abaixo da mediana do preço 9\n",
      "\n",
      "Quantidade de casas com mediana maior que ou igual a 100% da mediana do mercado: 119\n",
      "Quantidade de casas com mediana menor que 100% da mediana do mercado: 35\n"
     ]
    },
    {
     "data": {
      "image/png": "[encoded data removed]",
      "text/plain": [
       "<Figure size 1440x720 with 1 Axes>"
      ]
     },
     "metadata": {},
     "output_type": "display_data"
    }
   ],
   "source": [
    "high = len(df4[(df4[\"waterfront\"]==1) & (df4[\"price\"] > df4[\"price_median\"])])\n",
    "low = len(df4[(df4[\"waterfront\"]==1) & (df4[\"price\"] < df4[\"price_median\"])])\n",
    " \n",
    "\n",
    "print(f\"Quantidade de casas mais do que a mediana do preço {high}\")\n",
    "print(f\"Quantidade de casas abaixo da mediana do preço {low}\")\n",
    "\n",
    "print(\"\")\n",
    "\n",
    "\n",
    "waterh_1 = len(df4[(df4[\"waterfront\"]==1) & (df4[\"price\"] > df4[\"price_median\"]) & (df4[\"dif\"] > -100)])\n",
    "waterh_0 = len(df4[(df4[\"waterfront\"]==1) & (df4[\"price\"] > df4[\"price_median\"]) & (df4[\"dif\"] <= -100)])\n",
    "\n",
    "\n",
    "print(f\"Quantidade de casas com mediana maior que ou igual a 100% da mediana do mercado: {waterh_0}\")\n",
    "print(f\"Quantidade de casas com mediana menor que 100% da mediana do mercado: {waterh_1}\")\n",
    "\n",
    "waterh_0 = df4[(df4[\"waterfront\"]==1) & (df4[\"price\"] > df4[\"price_median\"]) & (df4[\"dif\"] < 100)]\n",
    "\n",
    "sns.countplot(x=df4['waterfront']);"
   ]
  },
  {
   "cell_type": "markdown",
   "id": "56eebbe3",
   "metadata": {},
   "source": [
    "### H4. A maioria das casas com porão e 2 andares são mais caras que que a mediana do preço.\n"
   ]
  },
  {
   "cell_type": "markdown",
   "id": "bcc8fd2a",
   "metadata": {},
   "source": [
    "**VERDADEIRO** "
   ]
  },
  {
   "cell_type": "markdown",
   "id": "9bfeee1f",
   "metadata": {},
   "source": [
    "* sqft_basement - porão\n",
    "* floors - andares (níveis)"
   ]
  },
  {
   "cell_type": "code",
   "execution_count": 27,
   "id": "ebb880bb",
   "metadata": {},
   "outputs": [
    {
     "name": "stdout",
     "output_type": "stream",
     "text": [
      "Quantidade de casas que tem porão e 2 andares 2963\n",
      "Quantidade de casas que tem porão e 2 andares mais cara do que a mediana de mercado: 2093\n",
      "Quantidade de casas que tem porão e 2 andares mais barata do que a mediana de mercado: 870\n"
     ]
    },
    {
     "data": {
      "image/png": "[encoded data removed]",
      "text/plain": [
       "<Figure size 1440x720 with 1 Axes>"
      ]
     },
     "metadata": {},
     "output_type": "display_data"
    }
   ],
   "source": [
    "qtd  = len(df4[(df4[\"sqft_basement\"]>0) & (df4[\"floors\"] > 1)])\n",
    "high = len(df4[(df4[\"sqft_basement\"]>0) & (df4[\"floors\"] > 1) & (df4[\"price\"]> df4[\"price_median\"])])\n",
    "low  = len(df4[(df4[\"sqft_basement\"]>0) & (df4[\"floors\"] > 1) & (df4[\"price\"]<= df4[\"price_median\"])])\n",
    "\n",
    "\n",
    "print(f\"Quantidade de casas que tem porão e 2 andares {qtd}\")\n",
    "print(f\"Quantidade de casas que tem porão e 2 andares mais cara do que a mediana de mercado: {high}\")\n",
    "print(f\"Quantidade de casas que tem porão e 2 andares mais barata do que a mediana de mercado: {low}\")\n",
    "\n",
    "plt.title('Casas agrupadas por andares x metro quadrado do porão')\n",
    "sns.stripplot(y = df4['sqft_basement'], x = df4['floors']);"
   ]
  },
  {
   "cell_type": "markdown",
   "id": "135aab10",
   "metadata": {},
   "source": [
    "### H5. A maioria das casas com datas acima de 1990 que tiveram reformas são mais caras que a mediana.\n"
   ]
  },
  {
   "cell_type": "markdown",
   "id": "c0cdd802",
   "metadata": {},
   "source": [
    "**VERDADEIRO**"
   ]
  },
  {
   "cell_type": "code",
   "execution_count": 28,
   "id": "471b0b39",
   "metadata": {},
   "outputs": [
    {
     "name": "stdout",
     "output_type": "stream",
     "text": [
      "Quantidade de casas construídas em 1990 e que tiveram reformas 7\n",
      "Quantidade de casas que tem o preço acima da mediana de preço 7\n",
      "Quantidade de casas que tem o preço abaixo da mediana de preço 0\n"
     ]
    }
   ],
   "source": [
    "total = len(df4[(df4[\"yr_renovated\"] != 0) & (df4[\"yr_built\"] >= 1990)])\n",
    "total_h = len(df4[(df4[\"yr_renovated\"] != 0) & (df4[\"yr_built\"] >= 1990) & (df4[\"price\"] > df4[\"price_median\"])])\n",
    "total_l = len(df4[(df4[\"yr_renovated\"] != 0) & (df4[\"yr_built\"] >= 1990) & (df4[\"price\"] < df4[\"price_median\"])])\n",
    "\n",
    "\n",
    "print(f\"Quantidade de casas construídas em 1990 e que tiveram reformas {total}\")\n",
    "print(f\"Quantidade de casas que tem o preço acima da mediana de preço {total_h}\")\n",
    "print(f\"Quantidade de casas que tem o preço abaixo da mediana de preço {total_l}\")\n"
   ]
  },
  {
   "cell_type": "markdown",
   "id": "5c8baa6d",
   "metadata": {},
   "source": [
    "### H6. A maioria das casas antigas são mais caras que a mediana de mercado "
   ]
  },
  {
   "cell_type": "markdown",
   "id": "a23c42e6",
   "metadata": {},
   "source": [
    "**VERDADEIRO**"
   ]
  },
  {
   "cell_type": "code",
   "execution_count": 29,
   "id": "34321d6d",
   "metadata": {},
   "outputs": [
    {
     "name": "stdout",
     "output_type": "stream",
     "text": [
      "Quantidade de casas antigas 21575\n",
      "Quantidade de casas antigas com preço acima da mediana de mercado 10845\n",
      "Quantidade de casas antigas com preço abaixo da mediana de mercado 10730\n"
     ]
    },
    {
     "data": {
      "image/png": "[encoded data removed]",
      "text/plain": [
       "<Figure size 1440x720 with 1 Axes>"
      ]
     },
     "metadata": {},
     "output_type": "display_data"
    }
   ],
   "source": [
    "old_houses = len(df4[df4[\"date-age\"] == \"old_house\"])\n",
    "old_houses_h = len(df4[(df4[\"date-age\"] == \"old_house\") & (df4[\"price\"] >= df4[\"price_median\"])])\n",
    "old_houses_l = len(df4[(df4[\"date-age\"] == \"old_house\") & (df4[\"price\"] < df4[\"price_median\"])])\n",
    "\n",
    "\n",
    "print(f\"Quantidade de casas antigas {old_houses}\")\n",
    "print(f\"Quantidade de casas antigas com preço acima da mediana de mercado {old_houses_h}\")\n",
    "print(f\"Quantidade de casas antigas com preço abaixo da mediana de mercado {old_houses_l}\")\n",
    "\n",
    "sns.countplot(x=df4['date-age']);"
   ]
  },
  {
   "cell_type": "markdown",
   "id": "1381e9e1",
   "metadata": {},
   "source": [
    "### H7.  A maioria das casas novas são mais caras que a mediana de mercado \n"
   ]
  },
  {
   "cell_type": "markdown",
   "id": "6af5205c",
   "metadata": {},
   "source": [
    "**VERDADEIRO**"
   ]
  },
  {
   "cell_type": "code",
   "execution_count": 30,
   "id": "3d8ce0c6",
   "metadata": {},
   "outputs": [
    {
     "name": "stdout",
     "output_type": "stream",
     "text": [
      "Quantidade de casas novas 38\n",
      "Quantidade de casas novas com preço acima da mediana de mercado 29\n",
      "Quantidade de casas novas com preço abaixo da mediana de mercado 9\n"
     ]
    },
    {
     "data": {
      "image/png": "[encoded data removed]",
      "text/plain": [
       "<Figure size 1440x720 with 1 Axes>"
      ]
     },
     "metadata": {},
     "output_type": "display_data"
    }
   ],
   "source": [
    "new_house = len(df4[df4[\"date-age\"] == \"new_house\"])\n",
    "newh = len(df4[(df4[\"date-age\"] == \"new_house\") & (df4[\"price\"] >= df4[\"price_median\"])])\n",
    "newl = len(df4[(df4[\"date-age\"] == \"new_house\") & (df4[\"price\"] < df4[\"price_median\"])])\n",
    "\n",
    "\n",
    "print(f\"Quantidade de casas novas {new_house}\")\n",
    "print(f\"Quantidade de casas novas com preço acima da mediana de mercado {newh}\")\n",
    "print(f\"Quantidade de casas novas com preço abaixo da mediana de mercado {newl}\")\n",
    "\n",
    "sns.countplot(x=df4['date-age']);"
   ]
  },
  {
   "cell_type": "markdown",
   "id": "04a53578",
   "metadata": {},
   "source": [
    "### 4.1 Tabela de Hipótese"
   ]
  },
  {
   "cell_type": "code",
   "execution_count": 31,
   "id": "4c4cff34",
   "metadata": {},
   "outputs": [
    {
     "data": {
      "text/html": [
       "<div>\n",
       "<style scoped>\n",
       "    .dataframe tbody tr th:only-of-type {\n",
       "        vertical-align: middle;\n",
       "    }\n",
       "\n",
       "    .dataframe tbody tr th {\n",
       "        vertical-align: top;\n",
       "    }\n",
       "\n",
       "    .dataframe thead th {\n",
       "        text-align: right;\n",
       "    }\n",
       "</style>\n",
       "<table border=\"1\" class=\"dataframe\">\n",
       "  <thead>\n",
       "    <tr style=\"text-align: right;\">\n",
       "      <th></th>\n",
       "      <th>HIPÓTESE</th>\n",
       "      <th>RESULTADO</th>\n",
       "      <th>RELEVÂNCIA</th>\n",
       "    </tr>\n",
       "  </thead>\n",
       "  <tbody>\n",
       "    <tr>\n",
       "      <th>0</th>\n",
       "      <td>H1</td>\n",
       "      <td>FALSA</td>\n",
       "      <td>BAIXA</td>\n",
       "    </tr>\n",
       "    <tr>\n",
       "      <th>1</th>\n",
       "      <td>H2</td>\n",
       "      <td>FALSA</td>\n",
       "      <td>BAIXA</td>\n",
       "    </tr>\n",
       "    <tr>\n",
       "      <th>2</th>\n",
       "      <td>H3</td>\n",
       "      <td>VERDADEIRO</td>\n",
       "      <td>ALTA</td>\n",
       "    </tr>\n",
       "    <tr>\n",
       "      <th>3</th>\n",
       "      <td>H4</td>\n",
       "      <td>VERDADEIRO</td>\n",
       "      <td>BAIXA</td>\n",
       "    </tr>\n",
       "    <tr>\n",
       "      <th>4</th>\n",
       "      <td>H5</td>\n",
       "      <td>VERDADEIRO</td>\n",
       "      <td>MEDIA</td>\n",
       "    </tr>\n",
       "    <tr>\n",
       "      <th>5</th>\n",
       "      <td>H6</td>\n",
       "      <td>VERDADEIRO</td>\n",
       "      <td>ALTA</td>\n",
       "    </tr>\n",
       "    <tr>\n",
       "      <th>6</th>\n",
       "      <td>H7</td>\n",
       "      <td>VERDADEIRO</td>\n",
       "      <td>BAIXA</td>\n",
       "    </tr>\n",
       "  </tbody>\n",
       "</table>\n",
       "</div>"
      ],
      "text/plain": [
       "  HIPÓTESE   RESULTADO RELEVÂNCIA\n",
       "0       H1       FALSA      BAIXA\n",
       "1       H2       FALSA      BAIXA\n",
       "2       H3  VERDADEIRO       ALTA\n",
       "3       H4  VERDADEIRO      BAIXA\n",
       "4       H5  VERDADEIRO      MEDIA\n",
       "5       H6  VERDADEIRO       ALTA\n",
       "6       H7  VERDADEIRO      BAIXA"
      ]
     },
     "execution_count": 31,
     "metadata": {},
     "output_type": "execute_result"
    }
   ],
   "source": [
    "data = {\"HIPÓTESE\": [\"H1\", \"H2\", \"H3\", \"H4\", \"H5\", \"H6\" , \"H7\"], \n",
    "       \"RESULTADO\":[\"FALSA\",\"FALSA\",\"VERDADEIRO\",\"VERDADEIRO\",\"VERDADEIRO\", \"VERDADEIRO\",\"VERDADEIRO\"],\n",
    "        \"RELEVÂNCIA\":[ \"BAIXA\",\"BAIXA\",\"ALTA\",\"BAIXA\",\"MEDIA\",\"ALTA\",\"BAIXA\"]}\n",
    "\n",
    "hip = pd.DataFrame(data)\n",
    "\n",
    "hip            "
   ]
  },
  {
   "cell_type": "markdown",
   "id": "de769e48",
   "metadata": {},
   "source": [
    "## 5.0 Respondendo as perguntas do CEO"
   ]
  },
  {
   "cell_type": "markdown",
   "id": "956fbed0",
   "metadata": {},
   "source": [
    "### 5.1 Quais casas a House Rocket deveria comprar e por qual preço de compra?\n"
   ]
  },
  {
   "cell_type": "code",
   "execution_count": 32,
   "id": "7d9576fe",
   "metadata": {},
   "outputs": [
    {
     "name": "stdout",
     "output_type": "stream",
     "text": [
      "Temos ao todo 10713 casas abaixo da mediana de mercado\n"
     ]
    }
   ],
   "source": [
    "df5 = df4.copy()\n",
    "\n",
    "total = len(df5[df5[\"status\"] == \"compra\"])\n",
    "\n",
    "print(f\"Temos ao todo {total} casas abaixo da mediana de mercado\")"
   ]
  },
  {
   "cell_type": "code",
   "execution_count": 33,
   "id": "c934daae",
   "metadata": {},
   "outputs": [
    {
     "name": "stdout",
     "output_type": "stream",
     "text": [
      "Ao todo temos 703 casas abaixo da mediana de mercado e com condição boa \n"
     ]
    }
   ],
   "source": [
    "bom = len(df5[(df5[\"status\"] == \"compra\") & (df5[\"condition_type\"] == \"good\")])\n",
    "\n",
    "print(f\"Ao todo temos {bom} casas abaixo da mediana de mercado e com condição boa \")"
   ]
  },
  {
   "cell_type": "markdown",
   "id": "bd621037",
   "metadata": {},
   "source": [
    "**Agora iremos salvar as casas com \"condições boas\" e \"preço\" abaixo do \"preço de mediana\"**"
   ]
  },
  {
   "cell_type": "code",
   "execution_count": 34,
   "id": "54925c55",
   "metadata": {},
   "outputs": [],
   "source": [
    "# salvar o dataseet de recomendações de compra\n",
    "\n",
    "bomsalvar = df5[(df5[\"status\"] == \"compra\") & (df5[\"condition_type\"] == \"good\")]\n",
    "bomsalvar.to_csv('data_upmedian.csv', encoding='utf-8', index=False)"
   ]
  },
  {
   "cell_type": "markdown",
   "id": "d11acd1d",
   "metadata": {},
   "source": [
    "**Vamos salvar em outro datasset os empreendimentos da Hipótese 3: Casas com com vista para água são 100% mais caras que a mediana do preço.**"
   ]
  },
  {
   "cell_type": "code",
   "execution_count": 35,
   "id": "e43a6988",
   "metadata": {},
   "outputs": [],
   "source": [
    "# salvar o dataseet de recomendações de compra\n",
    "\n",
    "waterh_0 = df4[(df4[\"waterfront\"]==1) & (df4[\"price\"] > df4[\"price_median\"]) & (df4[\"dif\"] > -100)]\n",
    "waterh_0.to_csv('house_waterfront_upmedian.csv', encoding='utf-8', index=False)"
   ]
  },
  {
   "cell_type": "markdown",
   "id": "a870bd90",
   "metadata": {},
   "source": [
    "### 5.2 A House Rocket deveria fazer uma reforma para aumentar o preço da venda?\n"
   ]
  },
  {
   "cell_type": "code",
   "execution_count": 36,
   "id": "7435cd3e",
   "metadata": {},
   "outputs": [],
   "source": [
    "## filtrando as casas com price < price.median  \n",
    "\n",
    "houses_buy = df5[df5[\"price\"] <= df5[\"price_median\"]]"
   ]
  },
  {
   "cell_type": "markdown",
   "id": "4950c321",
   "metadata": {},
   "source": [
    "* As casas com condições bad deveriam passar por uma reforma para se tornarem mais atraentes. Já as casas em condições regulares precisariam ser selecionadas caso a caso"
   ]
  },
  {
   "cell_type": "code",
   "execution_count": 37,
   "id": "ea9711a3",
   "metadata": {},
   "outputs": [
    {
     "name": "stdout",
     "output_type": "stream",
     "text": [
      "São 10170 casas que estão com preço menor que a mediana de mercado, estando em condição má ou regular \n",
      "São 160 casas que estão com preço menor que a mediana de mercado, estando em condição má\n",
      "São 10010 casas que estão com preço menor que a mediana de mercado, estando em condição regular \n"
     ]
    }
   ],
   "source": [
    "h_b_r = len(houses_buy[(houses_buy[\"condition_type\"]==\"regular\") | (houses_buy[\"condition_type\"]==\"bad\")])\n",
    "h_b = houses_buy[houses_buy[\"condition_type\"] == \"bad\"]\n",
    "h_r = houses_buy[houses_buy[\"condition_type\"] == \"regular\"]\n",
    "\n",
    "\n",
    "print(f\"São {h_b_r} casas que estão com preço menor que a mediana de mercado, estando em condição má ou regular \")\n",
    "print(f\"São {len(h_b)} casas que estão com preço menor que a mediana de mercado, estando em condição má\")\n",
    "print(f\"São {len(h_r)} casas que estão com preço menor que a mediana de mercado, estando em condição regular \")"
   ]
  },
  {
   "cell_type": "code",
   "execution_count": 38,
   "id": "4242774f",
   "metadata": {},
   "outputs": [
    {
     "name": "stdout",
     "output_type": "stream",
     "text": [
      "São casas que esteja acima da mediana e que não custe o do dobro do preço com vista para a água que devem ter reformas\n",
      "  condition_type  id\n",
      "0            bad   1\n",
      "1           good   4\n",
      "2        regular  30\n",
      "As casas que tem a condição bad deve passar por reformas, as regulares devem ser avaliadas caso a caso.\n"
     ]
    }
   ],
   "source": [
    "# casas com vista para o mar acima da medianan e menor que o dobro da mediana no preço\n",
    "hwf_count = waterh_0[['id', 'condition_type']].groupby('condition_type').count().reset_index()\n",
    "\n",
    "print('São casas que esteja acima da mediana e que não custe o do dobro do preço com vista para a água que devem ter reformas')\n",
    "\n",
    "print(hwf_count)\n",
    "\n",
    "print('As casas que tem a condição bad deve passar por reformas, as regulares devem ser avaliadas caso a caso.')"
   ]
  },
  {
   "cell_type": "markdown",
   "id": "13135516",
   "metadata": {},
   "source": [
    "### 5.3 Qual o incremento no preço dado por cada opção de reforma?"
   ]
  },
  {
   "cell_type": "markdown",
   "id": "74ad8bf1",
   "metadata": {},
   "source": [
    "* Casas com condições bad devem ter um custo de até 30% no valor na reforma.\n",
    "* Casas com condições regular devem ter um custo de até 10% no valor na reforma.\n",
    " * As casas podem ter um acrécimo ou diminuição nessa porcentagem de acordo com o grau de qualidade do imóvel"
   ]
  },
  {
   "cell_type": "code",
   "execution_count": 39,
   "id": "04960227",
   "metadata": {},
   "outputs": [],
   "source": [
    "# concat house to buy\n",
    "houses_buy_01 =  pd.concat([houses_buy, waterh_0], axis=0)"
   ]
  },
  {
   "cell_type": "markdown",
   "id": "30d22ee9",
   "metadata": {},
   "source": [
    "* Tabela de opções de preço para cada condição de reforma:\n",
    "* Casas com condições bad: 30% do valor da casa\n",
    "   * Casa com condições regular: 10% do valor da casa"
   ]
  },
  {
   "cell_type": "markdown",
   "id": "2163b025",
   "metadata": {},
   "source": [
    "#### 5.3.1 Tabela com preço com os acréscimos da reforma"
   ]
  },
  {
   "cell_type": "code",
   "execution_count": 40,
   "id": "8f3f428b",
   "metadata": {},
   "outputs": [],
   "source": [
    "# reset o index\n",
    "houses_buy_01 = houses_buy_01.reset_index().drop(columns='index')"
   ]
  },
  {
   "cell_type": "code",
   "execution_count": 41,
   "id": "edab7105",
   "metadata": {},
   "outputs": [],
   "source": [
    "# adcionar o custo da reform ano preço \n",
    "houses_buy_01['price+renovation'] = houses_buy_01[['condition_type', 'price']].apply(lambda x: x['price'] * 1.30 if x['condition_type'] == 'bad' \n",
    "                                                                                     else x['price'] * 1.10 if x['condition_type'] == 'regular' else \n",
    "                                                                                     x['price'], axis=1)\n",
    "\n",
    "# criar coluna so com os preços estimado da reforam\n",
    "houses_buy_01['renovation_cost'] = houses_buy_01[['condition_type', 'price', 'price+renovation']].apply(lambda x: \n",
    "                                                                                                        x['price+renovation'] - x['price'] \n",
    "                                                                                                        if x['condition_type'] == 'bad' \n",
    "                                                                                                        else x['price+renovation'] - x['price'] \n",
    "                                                                                                        if x['condition_type'] == 'regular' else 0.0, axis=1)\n"
   ]
  },
  {
   "cell_type": "code",
   "execution_count": 42,
   "id": "c72c2835",
   "metadata": {},
   "outputs": [
    {
     "name": "stdout",
     "output_type": "stream",
     "text": [
      " Temos ao todo 8226 empreendimentos que vale a pena a compra. Os quais teremos um maior retorno, mesmo após a reforma\n"
     ]
    }
   ],
   "source": [
    "h1 = houses_buy_01.copy()\n",
    "h1 = h1[h1[\"price_median\"] > h1[\"price+renovation\"]] \n",
    "print(f\" Temos ao todo {len(h1)} empreendimentos que vale a pena a compra. Os quais teremos um maior retorno, mesmo após a reforma\")"
   ]
  },
  {
   "cell_type": "code",
   "execution_count": 43,
   "id": "86681b60",
   "metadata": {},
   "outputs": [],
   "source": [
    "## export dos dados\n",
    "\n",
    "h1.to_csv('houses_buy.csv', encoding='utf-8', index=False)"
   ]
  },
  {
   "cell_type": "markdown",
   "id": "512685bf",
   "metadata": {},
   "source": [
    "### 5.4 Resultado de Venda"
   ]
  },
  {
   "cell_type": "code",
   "execution_count": 44,
   "id": "66fe986a",
   "metadata": {},
   "outputs": [],
   "source": [
    "df10 = houses_buy_01.copy()"
   ]
  },
  {
   "cell_type": "code",
   "execution_count": 45,
   "id": "433a0d75",
   "metadata": {
    "scrolled": true
   },
   "outputs": [
    {
     "name": "stdout",
     "output_type": "stream",
     "text": [
      "O total das somas dos preços das casas para compra é $4233321368.0.\n"
     ]
    }
   ],
   "source": [
    "h_total_buy = df10['price'].sum()\n",
    "print('O total das somas dos preços das casas para compra é ${}.'.format(h_total_buy))"
   ]
  },
  {
   "cell_type": "markdown",
   "id": "918f56d7",
   "metadata": {},
   "source": [
    "#### 5.4.2 Soma das casas pela condição e total da soma do custo da reforma.\n"
   ]
  },
  {
   "cell_type": "code",
   "execution_count": 46,
   "id": "38677f2e",
   "metadata": {},
   "outputs": [
    {
     "name": "stdout",
     "output_type": "stream",
     "text": [
      "Somatoria das casa com codições bad $43634181.0, e somatoria custo reforma $13090254.3.\n",
      "Somatoria das casa com codições good $286250420.0, e somatoria custo reforma $0.0.\n",
      "Somatoria das casa com codições regular $3903436767.0, e somatoria custo reforma $390343676.7000002.\n"
     ]
    },
    {
     "data": {
      "text/html": [
       "<div>\n",
       "<style scoped>\n",
       "    .dataframe tbody tr th:only-of-type {\n",
       "        vertical-align: middle;\n",
       "    }\n",
       "\n",
       "    .dataframe tbody tr th {\n",
       "        vertical-align: top;\n",
       "    }\n",
       "\n",
       "    .dataframe thead th {\n",
       "        text-align: right;\n",
       "    }\n",
       "</style>\n",
       "<table border=\"1\" class=\"dataframe\">\n",
       "  <thead>\n",
       "    <tr style=\"text-align: right;\">\n",
       "      <th></th>\n",
       "      <th>price</th>\n",
       "      <th>renovation_cost</th>\n",
       "      <th>price+renovation</th>\n",
       "    </tr>\n",
       "    <tr>\n",
       "      <th>condition_type</th>\n",
       "      <th></th>\n",
       "      <th></th>\n",
       "      <th></th>\n",
       "    </tr>\n",
       "  </thead>\n",
       "  <tbody>\n",
       "    <tr>\n",
       "      <th>bad</th>\n",
       "      <td>43634181.000</td>\n",
       "      <td>13090254.300</td>\n",
       "      <td>56724435.300</td>\n",
       "    </tr>\n",
       "    <tr>\n",
       "      <th>good</th>\n",
       "      <td>286250420.000</td>\n",
       "      <td>0.000</td>\n",
       "      <td>286250420.000</td>\n",
       "    </tr>\n",
       "    <tr>\n",
       "      <th>regular</th>\n",
       "      <td>3903436767.000</td>\n",
       "      <td>390343676.700</td>\n",
       "      <td>4293780443.700</td>\n",
       "    </tr>\n",
       "  </tbody>\n",
       "</table>\n",
       "</div>"
      ],
      "text/plain": [
       "                        price  renovation_cost  price+renovation\n",
       "condition_type                                                  \n",
       "bad              43634181.000     13090254.300      56724435.300\n",
       "good            286250420.000            0.000     286250420.000\n",
       "regular        3903436767.000    390343676.700    4293780443.700"
      ]
     },
     "execution_count": 46,
     "metadata": {},
     "output_type": "execute_result"
    }
   ],
   "source": [
    "h_bad = df10[df10['condition_type'] == 'bad']\n",
    "h_badp = h_bad['price'].sum()\n",
    "h_badrc = h_bad['renovation_cost'].sum()\n",
    "print('Somatoria das casa com codições bad ${}, e somatoria custo reforma ${}.'.format(h_badp, h_badrc))\n",
    "\n",
    "h_bad1 = df10[df10['condition_type'] == 'good']\n",
    "h_badp1 = h_bad1['price'].sum()\n",
    "h_badrc1 = h_bad1['renovation_cost'].sum()\n",
    "print('Somatoria das casa com codições good ${}, e somatoria custo reforma ${}.'.format(h_badp1, h_badrc1))\n",
    "\n",
    "h_bad2 = df10[df10['condition_type'] == 'regular']\n",
    "h_badp2 = h_bad2['price'].sum()\n",
    "h_badrc2 = h_bad2['renovation_cost'].sum()\n",
    "print('Somatoria das casa com codições regular ${}, e somatoria custo reforma ${}.'.format(h_badp2, h_badrc2))\n",
    "\n",
    "df10[['price', 'condition_type', 'renovation_cost', 'price+renovation']].groupby('condition_type').sum()"
   ]
  },
  {
   "cell_type": "markdown",
   "id": "59c603ac",
   "metadata": {},
   "source": [
    "#### 5.4.3 Resultado de Vendas"
   ]
  },
  {
   "cell_type": "markdown",
   "id": "60ae2d13",
   "metadata": {},
   "source": [
    "* Casas com condições bad vai ter 10% adcionado ao final para a venda.\n",
    "* Casas com condições regular vai ter 15% adcionado ao final para a venda.\n",
    "* Casas com condições good vai ter 20% adcionado ao final para a venda."
   ]
  },
  {
   "cell_type": "code",
   "execution_count": 47,
   "id": "c6453c63",
   "metadata": {},
   "outputs": [],
   "source": [
    "# adcionar lucro\n",
    "df10['price_sales'] = df10[['condition_type', 'price+renovation']].apply(lambda x: x['price+renovation'] * 1.10 if x['condition_type'] == 'bad' else \n",
    "                                                                         x['price+renovation'] * 1.20 if x['condition_type'] == 'good' else \n",
    "                                                                         x['price+renovation'] * 1.15, axis=1)"
   ]
  },
  {
   "cell_type": "code",
   "execution_count": 48,
   "id": "2251658e",
   "metadata": {},
   "outputs": [
    {
     "name": "stdout",
     "output_type": "stream",
     "text": [
      "O lucro da vendas das 10923 casas é de $706989594.08. \n"
     ]
    }
   ],
   "source": [
    "# lucro\n",
    "lucro = df10['price_sales'] - df10['price+renovation']\n",
    "print('O lucro da vendas das {} casas é de ${}. '.format(len(df10['id']), round(lucro.sum(), 2)))"
   ]
  },
  {
   "cell_type": "markdown",
   "id": "f8890ebb",
   "metadata": {},
   "source": [
    "**A coluna abaixo compara os valores de price_median e o preço da venda. Caso a price_median esteja maior que o preço da venda, isso quer dizer que a nossa venda está menor do que o preço da mediana. Consequentemente é um preço mais atrativo, essa venda tem uma alta probabilidade de ser uma venda mais rápida**"
   ]
  },
  {
   "cell_type": "code",
   "execution_count": 49,
   "id": "c4279d48",
   "metadata": {
    "scrolled": true
   },
   "outputs": [],
   "source": [
    "df10[\"velocidade_venda\"] = df10[[\"price_sales\", \"price_median\"]].apply(lambda x: \"sim\" if x[\"price_sales\"] <= x[\"price_median\"]\n",
    "                                                                      else \"nao\", axis=1)"
   ]
  },
  {
   "cell_type": "code",
   "execution_count": 50,
   "id": "1d57a79b",
   "metadata": {},
   "outputs": [],
   "source": [
    "##Export arquivo compra final\n",
    "df10.to_csv('houses_buy_final.csv', encoding='utf-8', index=False)"
   ]
  },
  {
   "cell_type": "code",
   "execution_count": 51,
   "id": "8e6d455c",
   "metadata": {},
   "outputs": [
    {
     "data": {
      "text/html": [
       "<div>\n",
       "<style scoped>\n",
       "    .dataframe tbody tr th:only-of-type {\n",
       "        vertical-align: middle;\n",
       "    }\n",
       "\n",
       "    .dataframe tbody tr th {\n",
       "        vertical-align: top;\n",
       "    }\n",
       "\n",
       "    .dataframe thead th {\n",
       "        text-align: right;\n",
       "    }\n",
       "</style>\n",
       "<table border=\"1\" class=\"dataframe\">\n",
       "  <thead>\n",
       "    <tr style=\"text-align: right;\">\n",
       "      <th></th>\n",
       "      <th>price</th>\n",
       "      <th>renovation_cost</th>\n",
       "      <th>price+renovation</th>\n",
       "      <th>price_sales</th>\n",
       "    </tr>\n",
       "    <tr>\n",
       "      <th>condition_type</th>\n",
       "      <th></th>\n",
       "      <th></th>\n",
       "      <th></th>\n",
       "      <th></th>\n",
       "    </tr>\n",
       "  </thead>\n",
       "  <tbody>\n",
       "    <tr>\n",
       "      <th>bad</th>\n",
       "      <td>43634181.000</td>\n",
       "      <td>13090254.300</td>\n",
       "      <td>56724435.300</td>\n",
       "      <td>62396878.830</td>\n",
       "    </tr>\n",
       "    <tr>\n",
       "      <th>good</th>\n",
       "      <td>286250420.000</td>\n",
       "      <td>0.000</td>\n",
       "      <td>286250420.000</td>\n",
       "      <td>343500504.000</td>\n",
       "    </tr>\n",
       "    <tr>\n",
       "      <th>regular</th>\n",
       "      <td>3903436767.000</td>\n",
       "      <td>390343676.700</td>\n",
       "      <td>4293780443.700</td>\n",
       "      <td>4937847510.255</td>\n",
       "    </tr>\n",
       "  </tbody>\n",
       "</table>\n",
       "</div>"
      ],
      "text/plain": [
       "                        price  renovation_cost  price+renovation  \\\n",
       "condition_type                                                     \n",
       "bad              43634181.000     13090254.300      56724435.300   \n",
       "good            286250420.000            0.000     286250420.000   \n",
       "regular        3903436767.000    390343676.700    4293780443.700   \n",
       "\n",
       "                  price_sales  \n",
       "condition_type                 \n",
       "bad              62396878.830  \n",
       "good            343500504.000  \n",
       "regular        4937847510.255  "
      ]
     },
     "execution_count": 51,
     "metadata": {},
     "output_type": "execute_result"
    }
   ],
   "source": [
    "df10[['price', 'condition_type', 'renovation_cost', 'price+renovation', \"price_sales\"]].groupby('condition_type').sum()"
   ]
  }
 ],
 "metadata": {
  "kernelspec": {
   "display_name": "Python 3 (ipykernel)",
   "language": "python",
   "name": "python3"
  },
  "language_info": {
   "codemirror_mode": {
    "name": "ipython",
    "version": 3
   },
   "file_extension": ".py",
   "mimetype": "text/x-python",
   "name": "python",
   "nbconvert_exporter": "python",
   "pygments_lexer": "ipython3",
   "version": "3.9.7"
  }
 },
 "nbformat": 4,
 "nbformat_minor": 5
}
